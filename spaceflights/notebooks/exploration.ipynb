{
 "cells": [
  {
   "cell_type": "code",
   "execution_count": 7,
   "id": "fcc78041-5609-4b29-ab26-7f60e26fa2ca",
   "metadata": {},
   "outputs": [
    {
     "data": {
      "text/html": [
       "<pre style=\"white-space:pre;overflow-x:auto;line-height:normal;font-family:Menlo,'DejaVu Sans Mono',consolas,'Courier New',monospace\"><span style=\"color: #7fbfbf; text-decoration-color: #7fbfbf\">[09/04/24 11:43:47] </span><span style=\"color: #000080; text-decoration-color: #000080\">INFO    </span> Registered line magic <span style=\"color: #008000; text-decoration-color: #008000\">'%reload_kedro'</span>                                   <a href=\"file:///Users/vyronaskatsos/micromamba/envs/spaceflights310/lib/python3.10/site-packages/kedro/ipython/__init__.py\" target=\"_blank\"><span style=\"color: #7f7f7f; text-decoration-color: #7f7f7f\">__init__.py</span></a><span style=\"color: #7f7f7f; text-decoration-color: #7f7f7f\">:</span><a href=\"file:///Users/vyronaskatsos/micromamba/envs/spaceflights310/lib/python3.10/site-packages/kedro/ipython/__init__.py#58\" target=\"_blank\"><span style=\"color: #7f7f7f; text-decoration-color: #7f7f7f\">58</span></a>\n",
       "</pre>\n"
      ],
      "text/plain": [
       "\u001b[2;36m[09/04/24 11:43:47]\u001b[0m\u001b[2;36m \u001b[0m\u001b[34mINFO    \u001b[0m Registered line magic \u001b[32m'%reload_kedro'\u001b[0m                                   \u001b]8;id=951469;file:///Users/vyronaskatsos/micromamba/envs/spaceflights310/lib/python3.10/site-packages/kedro/ipython/__init__.py\u001b\\\u001b[2m__init__.py\u001b[0m\u001b]8;;\u001b\\\u001b[2m:\u001b[0m\u001b]8;id=443921;file:///Users/vyronaskatsos/micromamba/envs/spaceflights310/lib/python3.10/site-packages/kedro/ipython/__init__.py#58\u001b\\\u001b[2m58\u001b[0m\u001b]8;;\u001b\\\n"
      ]
     },
     "metadata": {},
     "output_type": "display_data"
    },
    {
     "data": {
      "text/html": [
       "<pre style=\"white-space:pre;overflow-x:auto;line-height:normal;font-family:Menlo,'DejaVu Sans Mono',consolas,'Courier New',monospace\"><span style=\"color: #7fbfbf; text-decoration-color: #7fbfbf\">                    </span><span style=\"color: #000080; text-decoration-color: #000080\">INFO    </span> Registered line magic <span style=\"color: #008000; text-decoration-color: #008000\">'%load_node'</span>                                      <a href=\"file:///Users/vyronaskatsos/micromamba/envs/spaceflights310/lib/python3.10/site-packages/kedro/ipython/__init__.py\" target=\"_blank\"><span style=\"color: #7f7f7f; text-decoration-color: #7f7f7f\">__init__.py</span></a><span style=\"color: #7f7f7f; text-decoration-color: #7f7f7f\">:</span><a href=\"file:///Users/vyronaskatsos/micromamba/envs/spaceflights310/lib/python3.10/site-packages/kedro/ipython/__init__.py#60\" target=\"_blank\"><span style=\"color: #7f7f7f; text-decoration-color: #7f7f7f\">60</span></a>\n",
       "</pre>\n"
      ],
      "text/plain": [
       "\u001b[2;36m                   \u001b[0m\u001b[2;36m \u001b[0m\u001b[34mINFO    \u001b[0m Registered line magic \u001b[32m'%load_node'\u001b[0m                                      \u001b]8;id=509673;file:///Users/vyronaskatsos/micromamba/envs/spaceflights310/lib/python3.10/site-packages/kedro/ipython/__init__.py\u001b\\\u001b[2m__init__.py\u001b[0m\u001b]8;;\u001b\\\u001b[2m:\u001b[0m\u001b]8;id=27206;file:///Users/vyronaskatsos/micromamba/envs/spaceflights310/lib/python3.10/site-packages/kedro/ipython/__init__.py#60\u001b\\\u001b[2m60\u001b[0m\u001b]8;;\u001b\\\n"
      ]
     },
     "metadata": {},
     "output_type": "display_data"
    },
    {
     "data": {
      "text/html": [
       "<pre style=\"white-space:pre;overflow-x:auto;line-height:normal;font-family:Menlo,'DejaVu Sans Mono',consolas,'Courier New',monospace\"><span style=\"color: #7fbfbf; text-decoration-color: #7fbfbf\">                    </span><span style=\"color: #000080; text-decoration-color: #000080\">INFO    </span> Resolved project path as: <span style=\"color: #800080; text-decoration-color: #800080\">/Users/vyronaskatsos/Desktop/</span><span style=\"color: #ff00ff; text-decoration-color: #ff00ff\">spaceflights.</span>   <a href=\"file:///Users/vyronaskatsos/micromamba/envs/spaceflights310/lib/python3.10/site-packages/kedro/ipython/__init__.py\" target=\"_blank\"><span style=\"color: #7f7f7f; text-decoration-color: #7f7f7f\">__init__.py</span></a><span style=\"color: #7f7f7f; text-decoration-color: #7f7f7f\">:</span><a href=\"file:///Users/vyronaskatsos/micromamba/envs/spaceflights310/lib/python3.10/site-packages/kedro/ipython/__init__.py#175\" target=\"_blank\"><span style=\"color: #7f7f7f; text-decoration-color: #7f7f7f\">175</span></a>\n",
       "<span style=\"color: #7fbfbf; text-decoration-color: #7fbfbf\">                    </span>         To set a different path, run <span style=\"color: #008000; text-decoration-color: #008000\">'%reload_kedro &lt;project_root&gt;'</span>            <span style=\"color: #7f7f7f; text-decoration-color: #7f7f7f\">               </span>\n",
       "</pre>\n"
      ],
      "text/plain": [
       "\u001b[2;36m                   \u001b[0m\u001b[2;36m \u001b[0m\u001b[34mINFO    \u001b[0m Resolved project path as: \u001b[35m/Users/vyronaskatsos/Desktop/\u001b[0m\u001b[95mspaceflights.\u001b[0m   \u001b]8;id=859782;file:///Users/vyronaskatsos/micromamba/envs/spaceflights310/lib/python3.10/site-packages/kedro/ipython/__init__.py\u001b\\\u001b[2m__init__.py\u001b[0m\u001b]8;;\u001b\\\u001b[2m:\u001b[0m\u001b]8;id=708126;file:///Users/vyronaskatsos/micromamba/envs/spaceflights310/lib/python3.10/site-packages/kedro/ipython/__init__.py#175\u001b\\\u001b[2m175\u001b[0m\u001b]8;;\u001b\\\n",
       "\u001b[2;36m                    \u001b[0m         To set a different path, run \u001b[32m'%reload_kedro \u001b[0m\u001b[32m<\u001b[0m\u001b[32mproject_root\u001b[0m\u001b[32m>\u001b[0m\u001b[32m'\u001b[0m            \u001b[2m               \u001b[0m\n"
      ]
     },
     "metadata": {},
     "output_type": "display_data"
    },
    {
     "data": {
      "text/html": [
       "<pre style=\"white-space:pre;overflow-x:auto;line-height:normal;font-family:Menlo,'DejaVu Sans Mono',consolas,'Courier New',monospace\"><span style=\"color: #7fbfbf; text-decoration-color: #7fbfbf\">                    </span><span style=\"color: #000080; text-decoration-color: #000080\">INFO    </span> Kedro is sending anonymous usage data with the sole purpose of improving <a href=\"file:///Users/vyronaskatsos/micromamba/envs/spaceflights310/lib/python3.10/site-packages/kedro_telemetry/plugin.py\" target=\"_blank\"><span style=\"color: #7f7f7f; text-decoration-color: #7f7f7f\">plugin.py</span></a><span style=\"color: #7f7f7f; text-decoration-color: #7f7f7f\">:</span><a href=\"file:///Users/vyronaskatsos/micromamba/envs/spaceflights310/lib/python3.10/site-packages/kedro_telemetry/plugin.py#233\" target=\"_blank\"><span style=\"color: #7f7f7f; text-decoration-color: #7f7f7f\">233</span></a>\n",
       "<span style=\"color: #7fbfbf; text-decoration-color: #7fbfbf\">                    </span>         the product. No personal data or IP addresses are stored on our side. If <span style=\"color: #7f7f7f; text-decoration-color: #7f7f7f\">             </span>\n",
       "<span style=\"color: #7fbfbf; text-decoration-color: #7fbfbf\">                    </span>         you want to opt out, set the `KEDRO_DISABLE_TELEMETRY` or `DO_NOT_TRACK` <span style=\"color: #7f7f7f; text-decoration-color: #7f7f7f\">             </span>\n",
       "<span style=\"color: #7fbfbf; text-decoration-color: #7fbfbf\">                    </span>         environment variables, or create a `.telemetry` file in the current      <span style=\"color: #7f7f7f; text-decoration-color: #7f7f7f\">             </span>\n",
       "<span style=\"color: #7fbfbf; text-decoration-color: #7fbfbf\">                    </span>         working directory with the contents `consent: false`. Read more at       <span style=\"color: #7f7f7f; text-decoration-color: #7f7f7f\">             </span>\n",
       "<span style=\"color: #7fbfbf; text-decoration-color: #7fbfbf\">                    </span>         <span style=\"color: #0000ff; text-decoration-color: #0000ff; text-decoration: underline\">https://docs.kedro.org/en/stable/configuration/telemetry.html</span>            <span style=\"color: #7f7f7f; text-decoration-color: #7f7f7f\">             </span>\n",
       "</pre>\n"
      ],
      "text/plain": [
       "\u001b[2;36m                   \u001b[0m\u001b[2;36m \u001b[0m\u001b[34mINFO    \u001b[0m Kedro is sending anonymous usage data with the sole purpose of improving \u001b]8;id=562918;file:///Users/vyronaskatsos/micromamba/envs/spaceflights310/lib/python3.10/site-packages/kedro_telemetry/plugin.py\u001b\\\u001b[2mplugin.py\u001b[0m\u001b]8;;\u001b\\\u001b[2m:\u001b[0m\u001b]8;id=242639;file:///Users/vyronaskatsos/micromamba/envs/spaceflights310/lib/python3.10/site-packages/kedro_telemetry/plugin.py#233\u001b\\\u001b[2m233\u001b[0m\u001b]8;;\u001b\\\n",
       "\u001b[2;36m                    \u001b[0m         the product. No personal data or IP addresses are stored on our side. If \u001b[2m             \u001b[0m\n",
       "\u001b[2;36m                    \u001b[0m         you want to opt out, set the `KEDRO_DISABLE_TELEMETRY` or `DO_NOT_TRACK` \u001b[2m             \u001b[0m\n",
       "\u001b[2;36m                    \u001b[0m         environment variables, or create a `.telemetry` file in the current      \u001b[2m             \u001b[0m\n",
       "\u001b[2;36m                    \u001b[0m         working directory with the contents `consent: false`. Read more at       \u001b[2m             \u001b[0m\n",
       "\u001b[2;36m                    \u001b[0m         \u001b[4;94mhttps://docs.kedro.org/en/stable/configuration/telemetry.html\u001b[0m            \u001b[2m             \u001b[0m\n"
      ]
     },
     "metadata": {},
     "output_type": "display_data"
    },
    {
     "data": {
      "text/html": [
       "<pre style=\"white-space:pre;overflow-x:auto;line-height:normal;font-family:Menlo,'DejaVu Sans Mono',consolas,'Courier New',monospace\"><span style=\"color: #7fbfbf; text-decoration-color: #7fbfbf\">[09/04/24 11:43:48] </span><span style=\"color: #000080; text-decoration-color: #000080\">INFO    </span> Kedro project spaceflights                                             <a href=\"file:///Users/vyronaskatsos/micromamba/envs/spaceflights310/lib/python3.10/site-packages/kedro/ipython/__init__.py\" target=\"_blank\"><span style=\"color: #7f7f7f; text-decoration-color: #7f7f7f\">__init__.py</span></a><span style=\"color: #7f7f7f; text-decoration-color: #7f7f7f\">:</span><a href=\"file:///Users/vyronaskatsos/micromamba/envs/spaceflights310/lib/python3.10/site-packages/kedro/ipython/__init__.py#141\" target=\"_blank\"><span style=\"color: #7f7f7f; text-decoration-color: #7f7f7f\">141</span></a>\n",
       "</pre>\n"
      ],
      "text/plain": [
       "\u001b[2;36m[09/04/24 11:43:48]\u001b[0m\u001b[2;36m \u001b[0m\u001b[34mINFO    \u001b[0m Kedro project spaceflights                                             \u001b]8;id=94938;file:///Users/vyronaskatsos/micromamba/envs/spaceflights310/lib/python3.10/site-packages/kedro/ipython/__init__.py\u001b\\\u001b[2m__init__.py\u001b[0m\u001b]8;;\u001b\\\u001b[2m:\u001b[0m\u001b]8;id=408297;file:///Users/vyronaskatsos/micromamba/envs/spaceflights310/lib/python3.10/site-packages/kedro/ipython/__init__.py#141\u001b\\\u001b[2m141\u001b[0m\u001b]8;;\u001b\\\n"
      ]
     },
     "metadata": {},
     "output_type": "display_data"
    },
    {
     "data": {
      "text/html": [
       "<pre style=\"white-space:pre;overflow-x:auto;line-height:normal;font-family:Menlo,'DejaVu Sans Mono',consolas,'Courier New',monospace\"><span style=\"color: #7fbfbf; text-decoration-color: #7fbfbf\">                    </span><span style=\"color: #000080; text-decoration-color: #000080\">INFO    </span> Defined global variable <span style=\"color: #008000; text-decoration-color: #008000\">'context'</span>, <span style=\"color: #008000; text-decoration-color: #008000\">'session'</span>, <span style=\"color: #008000; text-decoration-color: #008000\">'catalog'</span> and            <a href=\"file:///Users/vyronaskatsos/micromamba/envs/spaceflights310/lib/python3.10/site-packages/kedro/ipython/__init__.py\" target=\"_blank\"><span style=\"color: #7f7f7f; text-decoration-color: #7f7f7f\">__init__.py</span></a><span style=\"color: #7f7f7f; text-decoration-color: #7f7f7f\">:</span><a href=\"file:///Users/vyronaskatsos/micromamba/envs/spaceflights310/lib/python3.10/site-packages/kedro/ipython/__init__.py#142\" target=\"_blank\"><span style=\"color: #7f7f7f; text-decoration-color: #7f7f7f\">142</span></a>\n",
       "<span style=\"color: #7fbfbf; text-decoration-color: #7fbfbf\">                    </span>         <span style=\"color: #008000; text-decoration-color: #008000\">'pipelines'</span>                                                            <span style=\"color: #7f7f7f; text-decoration-color: #7f7f7f\">               </span>\n",
       "</pre>\n"
      ],
      "text/plain": [
       "\u001b[2;36m                   \u001b[0m\u001b[2;36m \u001b[0m\u001b[34mINFO    \u001b[0m Defined global variable \u001b[32m'context'\u001b[0m, \u001b[32m'session'\u001b[0m, \u001b[32m'catalog'\u001b[0m and            \u001b]8;id=341705;file:///Users/vyronaskatsos/micromamba/envs/spaceflights310/lib/python3.10/site-packages/kedro/ipython/__init__.py\u001b\\\u001b[2m__init__.py\u001b[0m\u001b]8;;\u001b\\\u001b[2m:\u001b[0m\u001b]8;id=989489;file:///Users/vyronaskatsos/micromamba/envs/spaceflights310/lib/python3.10/site-packages/kedro/ipython/__init__.py#142\u001b\\\u001b[2m142\u001b[0m\u001b]8;;\u001b\\\n",
       "\u001b[2;36m                    \u001b[0m         \u001b[32m'pipelines'\u001b[0m                                                            \u001b[2m               \u001b[0m\n"
      ]
     },
     "metadata": {},
     "output_type": "display_data"
    },
    {
     "data": {
      "text/html": [
       "<pre style=\"white-space:pre;overflow-x:auto;line-height:normal;font-family:Menlo,'DejaVu Sans Mono',consolas,'Courier New',monospace\"><span style=\"color: #7fbfbf; text-decoration-color: #7fbfbf\">                    </span><span style=\"color: #000080; text-decoration-color: #000080\">INFO    </span> Registered line magic <span style=\"color: #008000; text-decoration-color: #008000\">'run_viz'</span>                                        <a href=\"file:///Users/vyronaskatsos/micromamba/envs/spaceflights310/lib/python3.10/site-packages/kedro/ipython/__init__.py\" target=\"_blank\"><span style=\"color: #7f7f7f; text-decoration-color: #7f7f7f\">__init__.py</span></a><span style=\"color: #7f7f7f; text-decoration-color: #7f7f7f\">:</span><a href=\"file:///Users/vyronaskatsos/micromamba/envs/spaceflights310/lib/python3.10/site-packages/kedro/ipython/__init__.py#148\" target=\"_blank\"><span style=\"color: #7f7f7f; text-decoration-color: #7f7f7f\">148</span></a>\n",
       "</pre>\n"
      ],
      "text/plain": [
       "\u001b[2;36m                   \u001b[0m\u001b[2;36m \u001b[0m\u001b[34mINFO    \u001b[0m Registered line magic \u001b[32m'run_viz'\u001b[0m                                        \u001b]8;id=449440;file:///Users/vyronaskatsos/micromamba/envs/spaceflights310/lib/python3.10/site-packages/kedro/ipython/__init__.py\u001b\\\u001b[2m__init__.py\u001b[0m\u001b]8;;\u001b\\\u001b[2m:\u001b[0m\u001b]8;id=811254;file:///Users/vyronaskatsos/micromamba/envs/spaceflights310/lib/python3.10/site-packages/kedro/ipython/__init__.py#148\u001b\\\u001b[2m148\u001b[0m\u001b]8;;\u001b\\\n"
      ]
     },
     "metadata": {},
     "output_type": "display_data"
    }
   ],
   "source": [
    "%reload_ext kedro.ipython"
   ]
  },
  {
   "cell_type": "code",
   "execution_count": 8,
   "id": "d7717d21-a39a-42e1-a9c7-3ff3d016c8b0",
   "metadata": {},
   "outputs": [
    {
     "data": {
      "text/html": [
       "<pre style=\"white-space:pre;overflow-x:auto;line-height:normal;font-family:Menlo,'DejaVu Sans Mono',consolas,'Courier New',monospace\"></pre>\n"
      ],
      "text/plain": []
     },
     "metadata": {},
     "output_type": "display_data"
    },
    {
     "data": {
      "text/plain": [
       "\n",
       "\u001b[1;35mKedroContext\u001b[0m\u001b[1m(\u001b[0m\n",
       "    \u001b[33mproject_path\u001b[0m=\u001b[1;35mPosixPath\u001b[0m\u001b[1m(\u001b[0m\u001b[32m'/Users/vyronaskatsos/Desktop/spaceflights'\u001b[0m\u001b[1m)\u001b[0m,\n",
       "    \u001b[33mconfig_loader\u001b[0m=\u001b[1;35mOmegaConfigLoader\u001b[0m\u001b[1m(\u001b[0m\u001b[33mconf_source\u001b[0m=\u001b[35m/Users/vyronaskatsos/Desktop/spaceflights/\u001b[0m\u001b[95mconf\u001b[0m, \u001b[33menv\u001b[0m=\u001b[3;35mNone\u001b[0m, \u001b[33mruntime_params\u001b[0m=\u001b[1m{\u001b[0m\u001b[1m}\u001b[0m, \u001b[33mconfig_patterns\u001b[0m=\u001b[1m{\u001b[0m\u001b[32m'catalog'\u001b[0m: \u001b[1m[\u001b[0m\u001b[32m'catalog*'\u001b[0m, \u001b[32m'catalog*/**'\u001b[0m, \u001b[32m'**/catalog*'\u001b[0m\u001b[1m]\u001b[0m, \u001b[32m'parameters'\u001b[0m: \u001b[1m[\u001b[0m\u001b[32m'parameters*'\u001b[0m, \u001b[32m'parameters*/**'\u001b[0m, \u001b[32m'**/parameters*'\u001b[0m\u001b[1m]\u001b[0m, \u001b[32m'credentials'\u001b[0m: \u001b[1m[\u001b[0m\u001b[32m'credentials*'\u001b[0m, \u001b[32m'credentials*/**'\u001b[0m, \u001b[32m'**/credentials*'\u001b[0m\u001b[1m]\u001b[0m, \u001b[32m'globals'\u001b[0m: \u001b[1m[\u001b[0m\u001b[32m'globals.yml'\u001b[0m\u001b[1m]\u001b[0m\u001b[1m}\u001b[0m, \u001b[33mbase_env\u001b[0m=\u001b[35mbase\u001b[0m\u001b[1m)\u001b[0m, \u001b[33mdefault_run_env\u001b[0m=\u001b[35mlocal\u001b[0m\u001b[1m)\u001b[0m, \u001b[33mcustom_resolvers\u001b[0m=\u001b[3;35mNone\u001b[0m\u001b[1m)\u001b[0m, \u001b[33mmerge_strategy\u001b[0m=\u001b[1m{\u001b[0m\u001b[1m}\u001b[0m\u001b[1m)\u001b[0m,\n",
       "    \u001b[33menv\u001b[0m=\u001b[3;35mNone\u001b[0m,\n",
       "    \u001b[33m_package_name\u001b[0m=\u001b[3;35mNone\u001b[0m,\n",
       "    \u001b[33m_hook_manager\u001b[0m=\u001b[1m<\u001b[0m\u001b[1;95mpluggy._manager.PluginManager\u001b[0m\u001b[39m object at \u001b[0m\u001b[1;36m0x13f5e8460\u001b[0m\u001b[1m>\u001b[0m,\n",
       "    \u001b[33m_extra_params\u001b[0m=\u001b[3;35mNone\u001b[0m\n",
       "\u001b[1m)\u001b[0m"
      ]
     },
     "execution_count": 8,
     "metadata": {},
     "output_type": "execute_result"
    }
   ],
   "source": [
    "context"
   ]
  },
  {
   "cell_type": "code",
   "execution_count": 9,
   "id": "d8412484-364c-4e8f-b612-30fdf274c0d4",
   "metadata": {},
   "outputs": [
    {
     "data": {
      "text/html": [
       "<pre style=\"white-space:pre;overflow-x:auto;line-height:normal;font-family:Menlo,'DejaVu Sans Mono',consolas,'Courier New',monospace\"></pre>\n"
      ],
      "text/plain": []
     },
     "metadata": {},
     "output_type": "display_data"
    },
    {
     "data": {
      "text/plain": [
       "\u001b[1m<\u001b[0m\u001b[1;95mkedro.framework.session.session.KedroSession\u001b[0m\u001b[39m object at \u001b[0m\u001b[1;36m0x1152e7580\u001b[0m\u001b[1m>\u001b[0m"
      ]
     },
     "execution_count": 9,
     "metadata": {},
     "output_type": "execute_result"
    }
   ],
   "source": [
    "session"
   ]
  },
  {
   "cell_type": "code",
   "execution_count": 10,
   "id": "1a2aa8d8-b6f9-43a1-9cc6-dd5bf8fdc120",
   "metadata": {},
   "outputs": [
    {
     "data": {
      "text/html": [
       "<pre style=\"white-space:pre;overflow-x:auto;line-height:normal;font-family:Menlo,'DejaVu Sans Mono',consolas,'Courier New',monospace\"></pre>\n"
      ],
      "text/plain": []
     },
     "metadata": {},
     "output_type": "display_data"
    },
    {
     "data": {
      "text/plain": [
       "\n",
       "\u001b[1m{\u001b[0m\u001b[32m'companies'\u001b[0m: \u001b[32m\"kedro_datasets.pandas.csv_dataset.CSVDataset\u001b[0m\u001b[32m(\u001b[0m\u001b[32mfilepath\u001b[0m\u001b[32m=\u001b[0m\u001b[32mPurePosixPath\u001b[0m\u001b[32m(\u001b[0m\u001b[32m'/Users/vyronaskatsos/Desktop/spaceflights/data/01_raw/companies.csv'\u001b[0m\u001b[32m)\u001b[0m\u001b[32m, \"\u001b[0m\n",
       "              \u001b[32m\"\u001b[0m\u001b[32mprotocol\u001b[0m\u001b[32m='file', \u001b[0m\u001b[32mload_args\u001b[0m\u001b[32m=\u001b[0m\u001b[32m{\u001b[0m\u001b[32m}\u001b[0m\u001b[32m, \u001b[0m\u001b[32msave_args\u001b[0m\u001b[32m=\u001b[0m\u001b[32m{\u001b[0m\u001b[32m'index': False\u001b[0m\u001b[32m}\u001b[0m\u001b[32m)\u001b[0m\u001b[32m\"\u001b[0m,\n",
       " \u001b[32m'reviews'\u001b[0m: \u001b[32m\"kedro_datasets.pandas.csv_dataset.CSVDataset\u001b[0m\u001b[32m(\u001b[0m\u001b[32mfilepath\u001b[0m\u001b[32m=\u001b[0m\u001b[32mPurePosixPath\u001b[0m\u001b[32m(\u001b[0m\u001b[32m'/Users/vyronaskatsos/Desktop/spaceflights/data/01_raw/reviews.csv'\u001b[0m\u001b[32m)\u001b[0m\u001b[32m, \"\u001b[0m\n",
       "            \u001b[32m\"\u001b[0m\u001b[32mprotocol\u001b[0m\u001b[32m='file', \u001b[0m\u001b[32mload_args\u001b[0m\u001b[32m=\u001b[0m\u001b[32m{\u001b[0m\u001b[32m}\u001b[0m\u001b[32m, \u001b[0m\u001b[32msave_args\u001b[0m\u001b[32m=\u001b[0m\u001b[32m{\u001b[0m\u001b[32m'index': False\u001b[0m\u001b[32m}\u001b[0m\u001b[32m)\u001b[0m\u001b[32m\"\u001b[0m,\n",
       " \u001b[32m'shuttles'\u001b[0m: \u001b[32m\"kedro_datasets.pandas.excel_dataset.ExcelDataset\u001b[0m\u001b[32m(\u001b[0m\u001b[32mfilepath\u001b[0m\u001b[32m=\u001b[0m\u001b[32mPurePosixPath\u001b[0m\u001b[32m(\u001b[0m\u001b[32m'/Users/vyronaskatsos/Desktop/spaceflights/data/01_raw/shuttles.xlsx'\u001b[0m\u001b[32m)\u001b[0m\u001b[32m, \"\u001b[0m\n",
       "             \u001b[32m\"\u001b[0m\u001b[32mprotocol\u001b[0m\u001b[32m='file', \u001b[0m\u001b[32mload_args\u001b[0m\u001b[32m=\u001b[0m\u001b[32m{\u001b[0m\u001b[32m'engine': 'openpyxl'\u001b[0m\u001b[32m}\u001b[0m\u001b[32m, \"\u001b[0m\n",
       "             \u001b[32m\"\u001b[0m\u001b[32msave_args\u001b[0m\u001b[32m=\u001b[0m\u001b[32m{\u001b[0m\u001b[32m'index': False\u001b[0m\u001b[32m}\u001b[0m\u001b[32m, \u001b[0m\u001b[32mwriter_args\u001b[0m\u001b[32m=\u001b[0m\u001b[32m{\u001b[0m\u001b[32m'engine': 'openpyxl'\u001b[0m\u001b[32m}\u001b[0m\u001b[32m)\u001b[0m\u001b[32m\"\u001b[0m,\n",
       " \u001b[32m'preprocessed_companies'\u001b[0m: \u001b[32m\"kedro_datasets.pandas.parquet_dataset.ParquetDataset\u001b[0m\u001b[32m(\u001b[0m\u001b[32mfilepath\u001b[0m\u001b[32m=\u001b[0m\u001b[32mPurePosixPath\u001b[0m\u001b[32m(\u001b[0m\u001b[32m'/Users/vyronaskatsos/Desktop/spaceflights/data/02_intermediate/preprocessed_companies.pq'\u001b[0m\u001b[32m)\u001b[0m\u001b[32m, \"\u001b[0m\n",
       "                           \u001b[32m\"\u001b[0m\u001b[32mprotocol\u001b[0m\u001b[32m='file', \u001b[0m\u001b[32mload_args\u001b[0m\u001b[32m=\u001b[0m\u001b[32m{\u001b[0m\u001b[32m}\u001b[0m\u001b[32m, \u001b[0m\u001b[32msave_args\u001b[0m\u001b[32m=\u001b[0m\u001b[32m{\u001b[0m\u001b[32m}\u001b[0m\u001b[32m)\u001b[0m\u001b[32m\"\u001b[0m,\n",
       " \u001b[32m'preprocessed_shuttles'\u001b[0m: \u001b[32m\"kedro_datasets.pandas.parquet_dataset.ParquetDataset\u001b[0m\u001b[32m(\u001b[0m\u001b[32mfilepath\u001b[0m\u001b[32m=\u001b[0m\u001b[32mPurePosixPath\u001b[0m\u001b[32m(\u001b[0m\u001b[32m'/Users/vyronaskatsos/Desktop/spaceflights/data/02_intermediate/preprocessed_shuttles.pq'\u001b[0m\u001b[32m)\u001b[0m\u001b[32m, \"\u001b[0m\n",
       "                          \u001b[32m\"\u001b[0m\u001b[32mprotocol\u001b[0m\u001b[32m='file', \u001b[0m\u001b[32mload_args\u001b[0m\u001b[32m=\u001b[0m\u001b[32m{\u001b[0m\u001b[32m}\u001b[0m\u001b[32m, \u001b[0m\u001b[32msave_args\u001b[0m\u001b[32m=\u001b[0m\u001b[32m{\u001b[0m\u001b[32m}\u001b[0m\u001b[32m)\u001b[0m\u001b[32m\"\u001b[0m,\n",
       " \u001b[32m'model_input_table'\u001b[0m: \u001b[32m\"kedro_datasets.pandas.parquet_dataset.ParquetDataset\u001b[0m\u001b[32m(\u001b[0m\u001b[32mfilepath\u001b[0m\u001b[32m=\u001b[0m\u001b[32mPurePosixPath\u001b[0m\u001b[32m(\u001b[0m\u001b[32m'/Users/vyronaskatsos/Desktop/spaceflights/data/03_primary/model_input_table.pq'\u001b[0m\u001b[32m)\u001b[0m\u001b[32m, \"\u001b[0m\n",
       "                      \u001b[32m\"\u001b[0m\u001b[32mprotocol\u001b[0m\u001b[32m='file', \u001b[0m\u001b[32mload_args\u001b[0m\u001b[32m=\u001b[0m\u001b[32m{\u001b[0m\u001b[32m}\u001b[0m\u001b[32m, \u001b[0m\u001b[32msave_args\u001b[0m\u001b[32m=\u001b[0m\u001b[32m{\u001b[0m\u001b[32m}\u001b[0m\u001b[32m)\u001b[0m\u001b[32m\"\u001b[0m,\n",
       " \u001b[32m'regressor'\u001b[0m: \u001b[32m\"kedro_datasets.pickle.pickle_dataset.PickleDataset\u001b[0m\u001b[32m(\u001b[0m\u001b[32mfilepath\u001b[0m\u001b[32m=\u001b[0m\u001b[32mPurePosixPath\u001b[0m\u001b[32m(\u001b[0m\u001b[32m'/Users/vyronaskatsos/Desktop/spaceflights/data/06_models/regressor.pickle'\u001b[0m\u001b[32m)\u001b[0m\u001b[32m, \"\u001b[0m\n",
       "              \u001b[32m\"\u001b[0m\u001b[32mbackend\u001b[0m\u001b[32m='pickle', \u001b[0m\u001b[32mprotocol\u001b[0m\u001b[32m='file', \u001b[0m\u001b[32mload_args\u001b[0m\u001b[32m=\u001b[0m\u001b[32m{\u001b[0m\u001b[32m}\u001b[0m\u001b[32m, \u001b[0m\u001b[32msave_args\u001b[0m\u001b[32m=\u001b[0m\u001b[32m{\u001b[0m\u001b[32m}\u001b[0m\u001b[32m, \"\u001b[0m\n",
       "              \u001b[32m\"\u001b[0m\u001b[32mversion\u001b[0m\u001b[32m=\u001b[0m\u001b[32mVersion\u001b[0m\u001b[32m(\u001b[0m\u001b[32mload\u001b[0m\u001b[32m=\u001b[0m\u001b[32mNone\u001b[0m\u001b[32m, \u001b[0m\u001b[32msave\u001b[0m\u001b[32m='2024-09-04T08.43.47.690Z'\u001b[0m\u001b[32m)\u001b[0m\u001b[32m)\u001b[0m\u001b[32m\"\u001b[0m,\n",
       " \u001b[32m'metrics'\u001b[0m: \u001b[32m\"kedro_datasets.tracking.metrics_dataset.MetricsDataset\u001b[0m\u001b[32m(\u001b[0m\u001b[32mfilepath\u001b[0m\u001b[32m=\u001b[0m\u001b[32mPurePosixPath\u001b[0m\u001b[32m(\u001b[0m\u001b[32m'/Users/vyronaskatsos/Desktop/spaceflights/data/09_tracking/metrics.json'\u001b[0m\u001b[32m)\u001b[0m\u001b[32m, \"\u001b[0m\n",
       "            \u001b[32m\"\u001b[0m\u001b[32mprotocol\u001b[0m\u001b[32m='file', \u001b[0m\u001b[32msave_args\u001b[0m\u001b[32m=\u001b[0m\u001b[32m{\u001b[0m\u001b[32m'indent': 2\u001b[0m\u001b[32m}\u001b[0m\u001b[32m, \"\u001b[0m\n",
       "            \u001b[32m\"\u001b[0m\u001b[32mversion\u001b[0m\u001b[32m=\u001b[0m\u001b[32mVersion\u001b[0m\u001b[32m(\u001b[0m\u001b[32mload\u001b[0m\u001b[32m=\u001b[0m\u001b[32mNone\u001b[0m\u001b[32m, \u001b[0m\u001b[32msave\u001b[0m\u001b[32m='2024-09-04T08.43.47.690Z'\u001b[0m\u001b[32m)\u001b[0m\u001b[32m)\u001b[0m\u001b[32m\"\u001b[0m,\n",
       " \u001b[32m'companies_columns'\u001b[0m: \u001b[32m\"kedro_datasets.tracking.json_dataset.JSONDataset\u001b[0m\u001b[32m(\u001b[0m\u001b[32mfilepath\u001b[0m\u001b[32m=\u001b[0m\u001b[32mPurePosixPath\u001b[0m\u001b[32m(\u001b[0m\u001b[32m'/Users/vyronaskatsos/Desktop/spaceflights/data/09_tracking/companies_columns.json'\u001b[0m\u001b[32m)\u001b[0m\u001b[32m, \"\u001b[0m\n",
       "                      \u001b[32m\"\u001b[0m\u001b[32mprotocol\u001b[0m\u001b[32m='file', \u001b[0m\u001b[32msave_args\u001b[0m\u001b[32m=\u001b[0m\u001b[32m{\u001b[0m\u001b[32m'indent': 2\u001b[0m\u001b[32m}\u001b[0m\u001b[32m, \"\u001b[0m\n",
       "                      \u001b[32m'\u001b[0m\u001b[32mversion\u001b[0m\u001b[32m=\u001b[0m\u001b[32mVersion\u001b[0m\u001b[32m(\u001b[0m\u001b[32mload\u001b[0m\u001b[32m=\u001b[0m\u001b[32mNone\u001b[0m\u001b[32m, '\u001b[0m\n",
       "                      \u001b[32m\"\u001b[0m\u001b[32msave\u001b[0m\u001b[32m='2024-09-04T08.43.47.690Z'\u001b[0m\u001b[32m)\u001b[0m\u001b[32m)\u001b[0m\u001b[32m\"\u001b[0m,\n",
       " \u001b[32m'shuttle_passenger_capacity_plot_exp'\u001b[0m: \u001b[32m\"kedro_datasets.plotly.plotly_dataset.PlotlyDataset\u001b[0m\u001b[32m(\u001b[0m\u001b[32mfilepath\u001b[0m\u001b[32m=\u001b[0m\u001b[32mPurePosixPath\u001b[0m\u001b[32m(\u001b[0m\u001b[32m'/Users/vyronaskatsos/Desktop/spaceflights/data/08_reporting/shuttle_passenger_capacity_plot_exp.json'\u001b[0m\u001b[32m)\u001b[0m\u001b[32m, \"\u001b[0m\n",
       "                                        \u001b[32m\"\u001b[0m\u001b[32mprotocol\u001b[0m\u001b[32m='file', \u001b[0m\u001b[32mload_args\u001b[0m\u001b[32m=\u001b[0m\u001b[32m{\u001b[0m\u001b[32m}\u001b[0m\u001b[32m, \"\u001b[0m\n",
       "                                        \u001b[32m'\u001b[0m\u001b[32msave_args\u001b[0m\u001b[32m=\u001b[0m\u001b[32m{\u001b[0m\u001b[32m}\u001b[0m\u001b[32m, '\u001b[0m\n",
       "                                        \u001b[32m'\u001b[0m\u001b[32mversion\u001b[0m\u001b[32m=\u001b[0m\u001b[32mVersion\u001b[0m\u001b[32m(\u001b[0m\u001b[32mload\u001b[0m\u001b[32m=\u001b[0m\u001b[32mNone\u001b[0m\u001b[32m, '\u001b[0m\n",
       "                                        \u001b[32m\"\u001b[0m\u001b[32msave\u001b[0m\u001b[32m='2024-09-04T08.43.47.690Z'\u001b[0m\u001b[32m)\u001b[0m\u001b[32m, \"\u001b[0m\n",
       "                                        \u001b[32m\"\u001b[0m\u001b[32mplotly_args\u001b[0m\u001b[32m=\u001b[0m\u001b[32m{\u001b[0m\u001b[32m'type': 'bar', 'fig': \"\u001b[0m\n",
       "                                        \u001b[32m\"\u001b[0m\u001b[32m{\u001b[0m\u001b[32m'x': 'shuttle_type', 'y': \"\u001b[0m\n",
       "                                        \u001b[32m\"'passenger_capacity', 'orientation': \"\u001b[0m\n",
       "                                        \u001b[32m\"'h'\u001b[0m\u001b[32m}\u001b[0m\u001b[32m, 'layout': \u001b[0m\u001b[32m{\u001b[0m\u001b[32m'xaxis_title': \"\u001b[0m\n",
       "                                        \u001b[32m\"'Shuttles', 'yaxis_title': 'Average \"\u001b[0m\n",
       "                                        \u001b[32m\"passenger capacity', 'title': \"\u001b[0m\n",
       "                                        \u001b[32m\"'Shuttle Passenger capacity'\u001b[0m\u001b[32m}\u001b[0m\u001b[32m}\u001b[0m\u001b[32m)\u001b[0m\u001b[32m\"\u001b[0m,\n",
       " \u001b[32m'shuttle_passenger_capacity_plot_go'\u001b[0m: \u001b[32m\"kedro_datasets.plotly.json_dataset.JSONDataset\u001b[0m\u001b[32m(\u001b[0m\u001b[32mfilepath\u001b[0m\u001b[32m=\u001b[0m\u001b[32mPurePosixPath\u001b[0m\u001b[32m(\u001b[0m\u001b[32m'/Users/vyronaskatsos/Desktop/spaceflights/data/08_reporting/shuttle_passenger_capacity_plot_go.json'\u001b[0m\u001b[32m)\u001b[0m\u001b[32m, \"\u001b[0m\n",
       "                                       \u001b[32m\"\u001b[0m\u001b[32mprotocol\u001b[0m\u001b[32m='file', \u001b[0m\u001b[32mload_args\u001b[0m\u001b[32m=\u001b[0m\u001b[32m{\u001b[0m\u001b[32m}\u001b[0m\u001b[32m, \"\u001b[0m\n",
       "                                       \u001b[32m'\u001b[0m\u001b[32msave_args\u001b[0m\u001b[32m=\u001b[0m\u001b[32m{\u001b[0m\u001b[32m}\u001b[0m\u001b[32m, '\u001b[0m\n",
       "                                       \u001b[32m'\u001b[0m\u001b[32mversion\u001b[0m\u001b[32m=\u001b[0m\u001b[32mVersion\u001b[0m\u001b[32m(\u001b[0m\u001b[32mload\u001b[0m\u001b[32m=\u001b[0m\u001b[32mNone\u001b[0m\u001b[32m, '\u001b[0m\n",
       "                                       \u001b[32m\"\u001b[0m\u001b[32msave\u001b[0m\u001b[32m='2024-09-04T08.43.47.690Z'\u001b[0m\u001b[32m)\u001b[0m\u001b[32m)\u001b[0m\u001b[32m\"\u001b[0m,\n",
       " \u001b[32m'dummy_confusion_matrix'\u001b[0m: \u001b[32m\"kedro_datasets.matplotlib.matplotlib_writer.MatplotlibWriter\u001b[0m\u001b[32m(\u001b[0m\u001b[32mfilepath\u001b[0m\u001b[32m=\u001b[0m\u001b[32mPurePosixPath\u001b[0m\u001b[32m(\u001b[0m\u001b[32m'/Users/vyronaskatsos/Desktop/spaceflights/data/08_reporting/dummy_confusion_matrix.png'\u001b[0m\u001b[32m)\u001b[0m\u001b[32m, \"\u001b[0m\n",
       "                           \u001b[32m\"\u001b[0m\u001b[32mprotocol\u001b[0m\u001b[32m='file', \u001b[0m\u001b[32msave_args\u001b[0m\u001b[32m=\u001b[0m\u001b[32m{\u001b[0m\u001b[32m}\u001b[0m\u001b[32m, \"\u001b[0m\n",
       "                           \u001b[32m'\u001b[0m\u001b[32mversion\u001b[0m\u001b[32m=\u001b[0m\u001b[32mVersion\u001b[0m\u001b[32m(\u001b[0m\u001b[32mload\u001b[0m\u001b[32m=\u001b[0m\u001b[32mNone\u001b[0m\u001b[32m, '\u001b[0m\n",
       "                           \u001b[32m\"\u001b[0m\u001b[32msave\u001b[0m\u001b[32m='2024-09-04T08.43.47.690Z'\u001b[0m\u001b[32m)\u001b[0m\u001b[32m)\u001b[0m\u001b[32m\"\u001b[0m,\n",
       " \u001b[32m'parameters'\u001b[0m: \u001b[32m\"kedro.io.memory_dataset.MemoryDataset\u001b[0m\u001b[32m(\u001b[0m\u001b[32mdata\u001b[0m\u001b[32m='\u001b[0m\u001b[32m<\u001b[0m\u001b[32mdict\u001b[0m\u001b[32m>'\u001b[0m\u001b[32m)\u001b[0m\u001b[32m\"\u001b[0m\u001b[39m,\u001b[0m\n",
       "\u001b[39m \u001b[0m\u001b[32m'params:model_options'\u001b[0m\u001b[39m: \u001b[0m\u001b[32m\"kedro.io.memory_dataset.MemoryDataset\u001b[0m\u001b[32m(\u001b[0m\u001b[32mdata\u001b[0m\u001b[32m='<dict>'\u001b[0m\u001b[32m)\u001b[0m\u001b[32m\"\u001b[0m\u001b[39m,\u001b[0m\n",
       "\u001b[39m \u001b[0m\u001b[32m'params:model_options.test_size'\u001b[0m\u001b[39m: \u001b[0m\u001b[32m\"kedro.io.memory_dataset.MemoryDataset\u001b[0m\u001b[32m(\u001b[0m\u001b[32mdata\u001b[0m\u001b[32m='<float>'\u001b[0m\u001b[32m)\u001b[0m\u001b[32m\"\u001b[0m\u001b[39m,\u001b[0m\n",
       "\u001b[39m \u001b[0m\u001b[32m'params:model_options.random_state'\u001b[0m\u001b[39m: \u001b[0m\u001b[32m\"kedro.io.memory_dataset.MemoryDataset\u001b[0m\u001b[32m(\u001b[0m\u001b[32mdata\u001b[0m\u001b[32m='<int>'\u001b[0m\u001b[32m)\u001b[0m\u001b[32m\"\u001b[0m\u001b[39m,\u001b[0m\n",
       "\u001b[39m \u001b[0m\u001b[32m'params:model_options.features'\u001b[0m\u001b[39m: \u001b[0m\u001b[32m\"kedro.io.memory_dataset.MemoryDataset\u001b[0m\u001b[32m(\u001b[0m\u001b[32mdata\u001b[0m\u001b[32m='<list\u001b[0m\u001b[32m>\u001b[0m\u001b[32m'\u001b[0m\u001b[32m)\u001b[0m\u001b[32m\"\u001b[0m\u001b[1m}\u001b[0m"
      ]
     },
     "execution_count": 10,
     "metadata": {},
     "output_type": "execute_result"
    }
   ],
   "source": [
    "catalog"
   ]
  },
  {
   "cell_type": "code",
   "execution_count": 11,
   "id": "d24d70b1-61dd-4326-a757-c10e15fd2951",
   "metadata": {},
   "outputs": [
    {
     "data": {
      "text/html": [
       "<pre style=\"white-space:pre;overflow-x:auto;line-height:normal;font-family:Menlo,'DejaVu Sans Mono',consolas,'Courier New',monospace\"></pre>\n"
      ],
      "text/plain": []
     },
     "metadata": {},
     "output_type": "display_data"
    },
    {
     "data": {
      "text/plain": [
       "\n",
       "\u001b[1m{\u001b[0m\u001b[32m'__default__'\u001b[0m: \u001b[1;35mPipeline\u001b[0m\u001b[1m(\u001b[0m\u001b[1m[\u001b[0m\n",
       "\u001b[1;35mNode\u001b[0m\u001b[1m(\u001b[0mcreate_confusion_matrix, \u001b[32m'companies'\u001b[0m, \u001b[32m'dummy_confusion_matrix'\u001b[0m, \u001b[3;35mNone\u001b[0m\u001b[1m)\u001b[0m,\n",
       "\u001b[1;35mNode\u001b[0m\u001b[1m(\u001b[0mpreprocess_companies, \u001b[32m'companies'\u001b[0m, \u001b[1m[\u001b[0m\u001b[32m'preprocessed_companies'\u001b[0m, \u001b[32m'companies_columns'\u001b[0m\u001b[1m]\u001b[0m, \u001b[32m'preprocess_companies_node'\u001b[0m\u001b[1m)\u001b[0m,\n",
       "\u001b[1;35mNode\u001b[0m\u001b[1m(\u001b[0mpreprocess_shuttles, \u001b[32m'shuttles'\u001b[0m, \u001b[32m'preprocessed_shuttles'\u001b[0m, \u001b[32m'preprocess_shuttles_node'\u001b[0m\u001b[1m)\u001b[0m,\n",
       "\u001b[1;35mNode\u001b[0m\u001b[1m(\u001b[0mcompare_passenger_capacity_exp, \u001b[32m'preprocessed_shuttles'\u001b[0m, \u001b[32m'shuttle_passenger_capacity_plot_exp'\u001b[0m, \u001b[3;35mNone\u001b[0m\u001b[1m)\u001b[0m,\n",
       "\u001b[1;35mNode\u001b[0m\u001b[1m(\u001b[0mcompare_passenger_capacity_go, \u001b[32m'preprocessed_shuttles'\u001b[0m, \u001b[32m'shuttle_passenger_capacity_plot_go'\u001b[0m, \u001b[3;35mNone\u001b[0m\u001b[1m)\u001b[0m,\n",
       "\u001b[1;35mNode\u001b[0m\u001b[1m(\u001b[0mcreate_model_input_table, \u001b[1m[\u001b[0m\u001b[32m'preprocessed_shuttles'\u001b[0m, \u001b[32m'preprocessed_companies'\u001b[0m, \u001b[32m'reviews'\u001b[0m\u001b[1m]\u001b[0m, \u001b[32m'model_input_table'\u001b[0m, \u001b[32m'create_model_input_table_node'\u001b[0m\u001b[1m)\u001b[0m,\n",
       "\u001b[1;35mNode\u001b[0m\u001b[1m(\u001b[0msplit_data, \u001b[1m[\u001b[0m\u001b[32m'model_input_table'\u001b[0m, \u001b[32m'params:model_options'\u001b[0m\u001b[1m]\u001b[0m, \u001b[1m[\u001b[0m\u001b[32m'X_train'\u001b[0m, \u001b[32m'X_test'\u001b[0m, \u001b[32m'y_train'\u001b[0m, \u001b[32m'y_test'\u001b[0m\u001b[1m]\u001b[0m, \u001b[32m'split_data_node'\u001b[0m\u001b[1m)\u001b[0m,\n",
       "\u001b[1;35mNode\u001b[0m\u001b[1m(\u001b[0mtrain_model, \u001b[1m[\u001b[0m\u001b[32m'X_train'\u001b[0m, \u001b[32m'y_train'\u001b[0m\u001b[1m]\u001b[0m, \u001b[32m'regressor'\u001b[0m, \u001b[32m'train_model_node'\u001b[0m\u001b[1m)\u001b[0m,\n",
       "\u001b[1;35mNode\u001b[0m\u001b[1m(\u001b[0mevaluate_model, \u001b[1m[\u001b[0m\u001b[32m'regressor'\u001b[0m, \u001b[32m'X_test'\u001b[0m, \u001b[32m'y_test'\u001b[0m\u001b[1m]\u001b[0m, \u001b[32m'metrics'\u001b[0m, \u001b[32m'evaluate_model_node'\u001b[0m\u001b[1m)\u001b[0m\n",
       "\u001b[1m]\u001b[0m\u001b[1m)\u001b[0m, \u001b[32m'data_process'\u001b[0m: \u001b[1;35mPipeline\u001b[0m\u001b[1m(\u001b[0m\u001b[1m[\u001b[0m\n",
       "\u001b[1;35mNode\u001b[0m\u001b[1m(\u001b[0mpreprocess_companies, \u001b[32m'companies'\u001b[0m, \u001b[1m[\u001b[0m\u001b[32m'preprocessed_companies'\u001b[0m, \u001b[32m'companies_columns'\u001b[0m\u001b[1m]\u001b[0m, \u001b[32m'preprocess_companies_node'\u001b[0m\u001b[1m)\u001b[0m,\n",
       "\u001b[1;35mNode\u001b[0m\u001b[1m(\u001b[0mpreprocess_shuttles, \u001b[32m'shuttles'\u001b[0m, \u001b[32m'preprocessed_shuttles'\u001b[0m, \u001b[32m'preprocess_shuttles_node'\u001b[0m\u001b[1m)\u001b[0m,\n",
       "\u001b[1;35mNode\u001b[0m\u001b[1m(\u001b[0mcreate_model_input_table, \u001b[1m[\u001b[0m\u001b[32m'preprocessed_shuttles'\u001b[0m, \u001b[32m'preprocessed_companies'\u001b[0m, \u001b[32m'reviews'\u001b[0m\u001b[1m]\u001b[0m, \u001b[32m'model_input_table'\u001b[0m, \u001b[32m'create_model_input_table_node'\u001b[0m\u001b[1m)\u001b[0m\n",
       "\u001b[1m]\u001b[0m\u001b[1m)\u001b[0m, \u001b[32m'data_science'\u001b[0m: \u001b[1;35mPipeline\u001b[0m\u001b[1m(\u001b[0m\u001b[1m[\u001b[0m\n",
       "\u001b[1;35mNode\u001b[0m\u001b[1m(\u001b[0msplit_data, \u001b[1m[\u001b[0m\u001b[32m'model_input_table'\u001b[0m, \u001b[32m'params:model_options'\u001b[0m\u001b[1m]\u001b[0m, \u001b[1m[\u001b[0m\u001b[32m'X_train'\u001b[0m, \u001b[32m'X_test'\u001b[0m, \u001b[32m'y_train'\u001b[0m, \u001b[32m'y_test'\u001b[0m\u001b[1m]\u001b[0m, \u001b[32m'split_data_node'\u001b[0m\u001b[1m)\u001b[0m,\n",
       "\u001b[1;35mNode\u001b[0m\u001b[1m(\u001b[0mtrain_model, \u001b[1m[\u001b[0m\u001b[32m'X_train'\u001b[0m, \u001b[32m'y_train'\u001b[0m\u001b[1m]\u001b[0m, \u001b[32m'regressor'\u001b[0m, \u001b[32m'train_model_node'\u001b[0m\u001b[1m)\u001b[0m,\n",
       "\u001b[1;35mNode\u001b[0m\u001b[1m(\u001b[0mevaluate_model, \u001b[1m[\u001b[0m\u001b[32m'regressor'\u001b[0m, \u001b[32m'X_test'\u001b[0m, \u001b[32m'y_test'\u001b[0m\u001b[1m]\u001b[0m, \u001b[32m'metrics'\u001b[0m, \u001b[32m'evaluate_model_node'\u001b[0m\u001b[1m)\u001b[0m\n",
       "\u001b[1m]\u001b[0m\u001b[1m)\u001b[0m, \u001b[32m'reporting'\u001b[0m: \u001b[1;35mPipeline\u001b[0m\u001b[1m(\u001b[0m\u001b[1m[\u001b[0m\n",
       "\u001b[1;35mNode\u001b[0m\u001b[1m(\u001b[0mcompare_passenger_capacity_exp, \u001b[32m'preprocessed_shuttles'\u001b[0m, \u001b[32m'shuttle_passenger_capacity_plot_exp'\u001b[0m, \u001b[3;35mNone\u001b[0m\u001b[1m)\u001b[0m,\n",
       "\u001b[1;35mNode\u001b[0m\u001b[1m(\u001b[0mcompare_passenger_capacity_go, \u001b[32m'preprocessed_shuttles'\u001b[0m, \u001b[32m'shuttle_passenger_capacity_plot_go'\u001b[0m, \u001b[3;35mNone\u001b[0m\u001b[1m)\u001b[0m,\n",
       "\u001b[1;35mNode\u001b[0m\u001b[1m(\u001b[0mcreate_confusion_matrix, \u001b[32m'companies'\u001b[0m, \u001b[32m'dummy_confusion_matrix'\u001b[0m, \u001b[3;35mNone\u001b[0m\u001b[1m)\u001b[0m\n",
       "\u001b[1m]\u001b[0m\u001b[1m)\u001b[0m\u001b[1m}\u001b[0m"
      ]
     },
     "execution_count": 11,
     "metadata": {},
     "output_type": "execute_result"
    }
   ],
   "source": [
    "pipelines"
   ]
  },
  {
   "cell_type": "code",
   "execution_count": 12,
   "id": "96b4557a-454d-4229-adbc-e379668d477d",
   "metadata": {},
   "outputs": [
    {
     "name": "stdout",
     "output_type": "stream",
     "text": [
      "\u001b[2;36m[09/04/24 11:43:57]\u001b[0m\u001b[2;36m \u001b[0m\u001b[34mINFO    \u001b[0m Using                               \u001b]8;id=159995;file:///Users/vyronaskatsos/micromamba/envs/spaceflights310/lib/python3.10/site-packages/kedro/framework/project/__init__.py\u001b\\\u001b[2m__init__.py\u001b[0m\u001b]8;;\u001b\\\u001b[2m:\u001b[0m\u001b]8;id=268244;file:///Users/vyronaskatsos/micromamba/envs/spaceflights310/lib/python3.10/site-packages/kedro/framework/project/__init__.py#249\u001b\\\u001b[2m249\u001b[0m\u001b]8;;\u001b\\\n",
      "\u001b[2;36m                    \u001b[0m         \u001b[32m'/Users/vyronaskatsos/micromamba/en\u001b[0m \u001b[2m               \u001b[0m\n",
      "\u001b[2;36m                    \u001b[0m         \u001b[32mvs/spaceflights310/lib/python3.10/s\u001b[0m \u001b[2m               \u001b[0m\n",
      "\u001b[2;36m                    \u001b[0m         \u001b[32mite-packages/kedro/framework/projec\u001b[0m \u001b[2m               \u001b[0m\n",
      "\u001b[2;36m                    \u001b[0m         \u001b[32mt/rich_logging.yml'\u001b[0m as logging      \u001b[2m               \u001b[0m\n",
      "\u001b[2;36m                    \u001b[0m         configuration.                      \u001b[2m               \u001b[0m\n"
     ]
    },
    {
     "data": {
      "text/html": [
       "<pre style=\"white-space:pre;overflow-x:auto;line-height:normal;font-family:Menlo,'DejaVu Sans Mono',consolas,'Courier New',monospace\"><span style=\"color: #7fbfbf; text-decoration-color: #7fbfbf\">[09/04/24 11:43:57] </span><span style=\"color: #000080; text-decoration-color: #000080\">INFO    </span> Using synchronous mode for loading and saving data. Use the     <a href=\"file:///Users/vyronaskatsos/micromamba/envs/spaceflights310/lib/python3.10/site-packages/kedro/runner/parallel_runner.py\" target=\"_blank\"><span style=\"color: #7f7f7f; text-decoration-color: #7f7f7f\">parallel_runner.py</span></a><span style=\"color: #7f7f7f; text-decoration-color: #7f7f7f\">:</span><a href=\"file:///Users/vyronaskatsos/micromamba/envs/spaceflights310/lib/python3.10/site-packages/kedro/runner/parallel_runner.py#264\" target=\"_blank\"><span style=\"color: #7f7f7f; text-decoration-color: #7f7f7f\">264</span></a>\n",
       "<span style=\"color: #7fbfbf; text-decoration-color: #7fbfbf\">                    </span>         --async flag for potential performance gains.                   <span style=\"color: #7f7f7f; text-decoration-color: #7f7f7f\">                      </span>\n",
       "<span style=\"color: #7fbfbf; text-decoration-color: #7fbfbf\">                    </span>         <span style=\"color: #0000ff; text-decoration-color: #0000ff; text-decoration: underline\">https://docs.kedro.org/en/stable/nodes_and_pipelines/run_a_pipe</span> <span style=\"color: #7f7f7f; text-decoration-color: #7f7f7f\">                      </span>\n",
       "<span style=\"color: #7fbfbf; text-decoration-color: #7fbfbf\">                    </span>         <span style=\"color: #0000ff; text-decoration-color: #0000ff; text-decoration: underline\">line.html#load-and-save-asynchronously</span>                          <span style=\"color: #7f7f7f; text-decoration-color: #7f7f7f\">                      </span>\n",
       "</pre>\n"
      ],
      "text/plain": [
       "\u001b[2;36m[09/04/24 11:43:57]\u001b[0m\u001b[2;36m \u001b[0m\u001b[34mINFO    \u001b[0m Using synchronous mode for loading and saving data. Use the     \u001b]8;id=193474;file:///Users/vyronaskatsos/micromamba/envs/spaceflights310/lib/python3.10/site-packages/kedro/runner/parallel_runner.py\u001b\\\u001b[2mparallel_runner.py\u001b[0m\u001b]8;;\u001b\\\u001b[2m:\u001b[0m\u001b]8;id=168939;file:///Users/vyronaskatsos/micromamba/envs/spaceflights310/lib/python3.10/site-packages/kedro/runner/parallel_runner.py#264\u001b\\\u001b[2m264\u001b[0m\u001b]8;;\u001b\\\n",
       "\u001b[2;36m                    \u001b[0m         --async flag for potential performance gains.                   \u001b[2m                      \u001b[0m\n",
       "\u001b[2;36m                    \u001b[0m         \u001b[4;94mhttps://docs.kedro.org/en/stable/nodes_and_pipelines/run_a_pipe\u001b[0m \u001b[2m                      \u001b[0m\n",
       "\u001b[2;36m                    \u001b[0m         \u001b[4;94mline.html#load-and-save-asynchronously\u001b[0m                          \u001b[2m                      \u001b[0m\n"
      ]
     },
     "metadata": {},
     "output_type": "display_data"
    },
    {
     "data": {
      "text/html": [
       "<pre style=\"white-space:pre;overflow-x:auto;line-height:normal;font-family:Menlo,'DejaVu Sans Mono',consolas,'Courier New',monospace\"><span style=\"color: #7fbfbf; text-decoration-color: #7fbfbf\">                    </span><span style=\"color: #808000; text-decoration-color: #808000\">WARNING </span> <span style=\"color: #008000; text-decoration-color: #008000\">'exists()'</span> not implemented for <span style=\"color: #008000; text-decoration-color: #008000\">'SharedMemoryDataset'</span>. Assuming output does <a href=\"file:///Users/vyronaskatsos/micromamba/envs/spaceflights310/lib/python3.10/site-packages/kedro/io/core.py\" target=\"_blank\"><span style=\"color: #7f7f7f; text-decoration-color: #7f7f7f\">core.py</span></a><span style=\"color: #7f7f7f; text-decoration-color: #7f7f7f\">:</span><a href=\"file:///Users/vyronaskatsos/micromamba/envs/spaceflights310/lib/python3.10/site-packages/kedro/io/core.py#377\" target=\"_blank\"><span style=\"color: #7f7f7f; text-decoration-color: #7f7f7f\">377</span></a>\n",
       "<span style=\"color: #7fbfbf; text-decoration-color: #7fbfbf\">                    </span>         not exist.                                                                 <span style=\"color: #7f7f7f; text-decoration-color: #7f7f7f\">           </span>\n",
       "</pre>\n"
      ],
      "text/plain": [
       "\u001b[2;36m                   \u001b[0m\u001b[2;36m \u001b[0m\u001b[33mWARNING \u001b[0m \u001b[32m'exists\u001b[0m\u001b[32m(\u001b[0m\u001b[32m)\u001b[0m\u001b[32m'\u001b[0m not implemented for \u001b[32m'SharedMemoryDataset'\u001b[0m. Assuming output does \u001b]8;id=28386;file:///Users/vyronaskatsos/micromamba/envs/spaceflights310/lib/python3.10/site-packages/kedro/io/core.py\u001b\\\u001b[2mcore.py\u001b[0m\u001b]8;;\u001b\\\u001b[2m:\u001b[0m\u001b]8;id=716324;file:///Users/vyronaskatsos/micromamba/envs/spaceflights310/lib/python3.10/site-packages/kedro/io/core.py#377\u001b\\\u001b[2m377\u001b[0m\u001b]8;;\u001b\\\n",
       "\u001b[2;36m                    \u001b[0m         not exist.                                                                 \u001b[2m           \u001b[0m\n"
      ]
     },
     "metadata": {},
     "output_type": "display_data"
    },
    {
     "data": {
      "text/html": [
       "<pre style=\"white-space:pre;overflow-x:auto;line-height:normal;font-family:Menlo,'DejaVu Sans Mono',consolas,'Courier New',monospace\"><span style=\"color: #7fbfbf; text-decoration-color: #7fbfbf\">                    </span><span style=\"color: #808000; text-decoration-color: #808000\">WARNING </span> <span style=\"color: #008000; text-decoration-color: #008000\">'exists()'</span> not implemented for <span style=\"color: #008000; text-decoration-color: #008000\">'SharedMemoryDataset'</span>. Assuming output does <a href=\"file:///Users/vyronaskatsos/micromamba/envs/spaceflights310/lib/python3.10/site-packages/kedro/io/core.py\" target=\"_blank\"><span style=\"color: #7f7f7f; text-decoration-color: #7f7f7f\">core.py</span></a><span style=\"color: #7f7f7f; text-decoration-color: #7f7f7f\">:</span><a href=\"file:///Users/vyronaskatsos/micromamba/envs/spaceflights310/lib/python3.10/site-packages/kedro/io/core.py#377\" target=\"_blank\"><span style=\"color: #7f7f7f; text-decoration-color: #7f7f7f\">377</span></a>\n",
       "<span style=\"color: #7fbfbf; text-decoration-color: #7fbfbf\">                    </span>         not exist.                                                                 <span style=\"color: #7f7f7f; text-decoration-color: #7f7f7f\">           </span>\n",
       "</pre>\n"
      ],
      "text/plain": [
       "\u001b[2;36m                   \u001b[0m\u001b[2;36m \u001b[0m\u001b[33mWARNING \u001b[0m \u001b[32m'exists\u001b[0m\u001b[32m(\u001b[0m\u001b[32m)\u001b[0m\u001b[32m'\u001b[0m not implemented for \u001b[32m'SharedMemoryDataset'\u001b[0m. Assuming output does \u001b]8;id=93422;file:///Users/vyronaskatsos/micromamba/envs/spaceflights310/lib/python3.10/site-packages/kedro/io/core.py\u001b\\\u001b[2mcore.py\u001b[0m\u001b]8;;\u001b\\\u001b[2m:\u001b[0m\u001b]8;id=739914;file:///Users/vyronaskatsos/micromamba/envs/spaceflights310/lib/python3.10/site-packages/kedro/io/core.py#377\u001b\\\u001b[2m377\u001b[0m\u001b]8;;\u001b\\\n",
       "\u001b[2;36m                    \u001b[0m         not exist.                                                                 \u001b[2m           \u001b[0m\n"
      ]
     },
     "metadata": {},
     "output_type": "display_data"
    },
    {
     "data": {
      "text/html": [
       "<pre style=\"white-space:pre;overflow-x:auto;line-height:normal;font-family:Menlo,'DejaVu Sans Mono',consolas,'Courier New',monospace\"><span style=\"color: #7fbfbf; text-decoration-color: #7fbfbf\">                    </span><span style=\"color: #808000; text-decoration-color: #808000\">WARNING </span> <span style=\"color: #008000; text-decoration-color: #008000\">'exists()'</span> not implemented for <span style=\"color: #008000; text-decoration-color: #008000\">'SharedMemoryDataset'</span>. Assuming output does <a href=\"file:///Users/vyronaskatsos/micromamba/envs/spaceflights310/lib/python3.10/site-packages/kedro/io/core.py\" target=\"_blank\"><span style=\"color: #7f7f7f; text-decoration-color: #7f7f7f\">core.py</span></a><span style=\"color: #7f7f7f; text-decoration-color: #7f7f7f\">:</span><a href=\"file:///Users/vyronaskatsos/micromamba/envs/spaceflights310/lib/python3.10/site-packages/kedro/io/core.py#377\" target=\"_blank\"><span style=\"color: #7f7f7f; text-decoration-color: #7f7f7f\">377</span></a>\n",
       "<span style=\"color: #7fbfbf; text-decoration-color: #7fbfbf\">                    </span>         not exist.                                                                 <span style=\"color: #7f7f7f; text-decoration-color: #7f7f7f\">           </span>\n",
       "</pre>\n"
      ],
      "text/plain": [
       "\u001b[2;36m                   \u001b[0m\u001b[2;36m \u001b[0m\u001b[33mWARNING \u001b[0m \u001b[32m'exists\u001b[0m\u001b[32m(\u001b[0m\u001b[32m)\u001b[0m\u001b[32m'\u001b[0m not implemented for \u001b[32m'SharedMemoryDataset'\u001b[0m. Assuming output does \u001b]8;id=38043;file:///Users/vyronaskatsos/micromamba/envs/spaceflights310/lib/python3.10/site-packages/kedro/io/core.py\u001b\\\u001b[2mcore.py\u001b[0m\u001b]8;;\u001b\\\u001b[2m:\u001b[0m\u001b]8;id=604388;file:///Users/vyronaskatsos/micromamba/envs/spaceflights310/lib/python3.10/site-packages/kedro/io/core.py#377\u001b\\\u001b[2m377\u001b[0m\u001b]8;;\u001b\\\n",
       "\u001b[2;36m                    \u001b[0m         not exist.                                                                 \u001b[2m           \u001b[0m\n"
      ]
     },
     "metadata": {},
     "output_type": "display_data"
    },
    {
     "data": {
      "text/html": [
       "<pre style=\"white-space:pre;overflow-x:auto;line-height:normal;font-family:Menlo,'DejaVu Sans Mono',consolas,'Courier New',monospace\"><span style=\"color: #7fbfbf; text-decoration-color: #7fbfbf\">                    </span><span style=\"color: #808000; text-decoration-color: #808000\">WARNING </span> <span style=\"color: #008000; text-decoration-color: #008000\">'exists()'</span> not implemented for <span style=\"color: #008000; text-decoration-color: #008000\">'SharedMemoryDataset'</span>. Assuming output does <a href=\"file:///Users/vyronaskatsos/micromamba/envs/spaceflights310/lib/python3.10/site-packages/kedro/io/core.py\" target=\"_blank\"><span style=\"color: #7f7f7f; text-decoration-color: #7f7f7f\">core.py</span></a><span style=\"color: #7f7f7f; text-decoration-color: #7f7f7f\">:</span><a href=\"file:///Users/vyronaskatsos/micromamba/envs/spaceflights310/lib/python3.10/site-packages/kedro/io/core.py#377\" target=\"_blank\"><span style=\"color: #7f7f7f; text-decoration-color: #7f7f7f\">377</span></a>\n",
       "<span style=\"color: #7fbfbf; text-decoration-color: #7fbfbf\">                    </span>         not exist.                                                                 <span style=\"color: #7f7f7f; text-decoration-color: #7f7f7f\">           </span>\n",
       "</pre>\n"
      ],
      "text/plain": [
       "\u001b[2;36m                   \u001b[0m\u001b[2;36m \u001b[0m\u001b[33mWARNING \u001b[0m \u001b[32m'exists\u001b[0m\u001b[32m(\u001b[0m\u001b[32m)\u001b[0m\u001b[32m'\u001b[0m not implemented for \u001b[32m'SharedMemoryDataset'\u001b[0m. Assuming output does \u001b]8;id=183152;file:///Users/vyronaskatsos/micromamba/envs/spaceflights310/lib/python3.10/site-packages/kedro/io/core.py\u001b\\\u001b[2mcore.py\u001b[0m\u001b]8;;\u001b\\\u001b[2m:\u001b[0m\u001b]8;id=949622;file:///Users/vyronaskatsos/micromamba/envs/spaceflights310/lib/python3.10/site-packages/kedro/io/core.py#377\u001b\\\u001b[2m377\u001b[0m\u001b]8;;\u001b\\\n",
       "\u001b[2;36m                    \u001b[0m         not exist.                                                                 \u001b[2m           \u001b[0m\n"
      ]
     },
     "metadata": {},
     "output_type": "display_data"
    },
    {
     "name": "stdout",
     "output_type": "stream",
     "text": [
      "\u001b[2;36m[09/04/24 11:43:57]\u001b[0m\u001b[2;36m \u001b[0m\u001b[34mINFO    \u001b[0m Using                               \u001b]8;id=304564;file:///Users/vyronaskatsos/micromamba/envs/spaceflights310/lib/python3.10/site-packages/kedro/framework/project/__init__.py\u001b\\\u001b[2m__init__.py\u001b[0m\u001b]8;;\u001b\\\u001b[2m:\u001b[0m\u001b]8;id=913054;file:///Users/vyronaskatsos/micromamba/envs/spaceflights310/lib/python3.10/site-packages/kedro/framework/project/__init__.py#249\u001b\\\u001b[2m249\u001b[0m\u001b]8;;\u001b\\\n",
      "\u001b[2;36m                    \u001b[0m         \u001b[32m'/Users/vyronaskatsos/micromamba/en\u001b[0m \u001b[2m               \u001b[0m\n",
      "\u001b[2;36m                    \u001b[0m         \u001b[32mvs/spaceflights310/lib/python3.10/s\u001b[0m \u001b[2m               \u001b[0m\n",
      "\u001b[2;36m                    \u001b[0m         \u001b[32mite-packages/kedro/framework/projec\u001b[0m \u001b[2m               \u001b[0m\n",
      "\u001b[2;36m                    \u001b[0m         \u001b[32mt/rich_logging.yml'\u001b[0m as logging      \u001b[2m               \u001b[0m\n",
      "\u001b[2;36m                    \u001b[0m         configuration.                      \u001b[2m               \u001b[0m\n",
      "\u001b[2;36m[09/04/24 11:43:57]\u001b[0m\u001b[2;36m \u001b[0m\u001b[34mINFO    \u001b[0m Using                               \u001b]8;id=551499;file:///Users/vyronaskatsos/micromamba/envs/spaceflights310/lib/python3.10/site-packages/kedro/framework/project/__init__.py\u001b\\\u001b[2m__init__.py\u001b[0m\u001b]8;;\u001b\\\u001b[2m:\u001b[0m\u001b]8;id=714836;file:///Users/vyronaskatsos/micromamba/envs/spaceflights310/lib/python3.10/site-packages/kedro/framework/project/__init__.py#249\u001b\\\u001b[2m249\u001b[0m\u001b]8;;\u001b\\\n",
      "\u001b[2;36m                    \u001b[0m         \u001b[32m'/Users/vyronaskatsos/micromamba/en\u001b[0m \u001b[2m               \u001b[0m\n",
      "\u001b[2;36m                    \u001b[0m         \u001b[32mvs/spaceflights310/lib/python3.10/s\u001b[0m \u001b[2m               \u001b[0m\n",
      "\u001b[2;36m                    \u001b[0m         \u001b[32mite-packages/kedro/framework/projec\u001b[0m \u001b[2m               \u001b[0m\n",
      "\u001b[2;36m                    \u001b[0m         \u001b[32mt/rich_logging.yml'\u001b[0m as logging      \u001b[2m               \u001b[0m\n",
      "\u001b[2;36m                    \u001b[0m         configuration.                      \u001b[2m               \u001b[0m\n",
      "\u001b[2;36m[09/04/24 11:43:57]\u001b[0m\u001b[2;36m \u001b[0m\u001b[34mINFO    \u001b[0m Using                               \u001b]8;id=433784;file:///Users/vyronaskatsos/micromamba/envs/spaceflights310/lib/python3.10/site-packages/kedro/framework/project/__init__.py\u001b\\\u001b[2m__init__.py\u001b[0m\u001b]8;;\u001b\\\u001b[2m:\u001b[0m\u001b]8;id=659242;file:///Users/vyronaskatsos/micromamba/envs/spaceflights310/lib/python3.10/site-packages/kedro/framework/project/__init__.py#249\u001b\\\u001b[2m249\u001b[0m\u001b]8;;\u001b\\\n",
      "\u001b[2;36m                    \u001b[0m         \u001b[32m'/Users/vyronaskatsos/micromamba/en\u001b[0m \u001b[2m               \u001b[0m\n",
      "\u001b[2;36m                    \u001b[0m         \u001b[32mvs/spaceflights310/lib/python3.10/s\u001b[0m \u001b[2m               \u001b[0m\n",
      "\u001b[2;36m                    \u001b[0m         \u001b[32mite-packages/kedro/framework/projec\u001b[0m \u001b[2m               \u001b[0m\n",
      "\u001b[2;36m                    \u001b[0m         \u001b[32mt/rich_logging.yml'\u001b[0m as logging      \u001b[2m               \u001b[0m\n",
      "\u001b[2;36m                    \u001b[0m         configuration.                      \u001b[2m               \u001b[0m\n",
      "\u001b[2;36m[09/04/24 11:43:59]\u001b[0m\u001b[2;36m \u001b[0m\u001b[34mINFO    \u001b[0m Loading data from \u001b[38;5;208mcompanies\u001b[0m     \u001b]8;id=424868;file:///Users/vyronaskatsos/micromamba/envs/spaceflights310/lib/python3.10/site-packages/kedro/io/data_catalog.py\u001b\\\u001b[2mdata_catalog.py\u001b[0m\u001b]8;;\u001b\\\u001b[2m:\u001b[0m\u001b]8;id=501570;file:///Users/vyronaskatsos/micromamba/envs/spaceflights310/lib/python3.10/site-packages/kedro/io/data_catalog.py#539\u001b\\\u001b[2m539\u001b[0m\u001b]8;;\u001b\\\n",
      "\u001b[2;36m                    \u001b[0m         \u001b[1m(\u001b[0mCSVDataset\u001b[1m)\u001b[0m\u001b[33m...\u001b[0m                 \u001b[2m                   \u001b[0m\n",
      "\u001b[2;36m[09/04/24 11:43:59]\u001b[0m\u001b[2;36m \u001b[0m\u001b[34mINFO    \u001b[0m Loading data from \u001b[38;5;208mshuttles\u001b[0m      \u001b]8;id=643482;file:///Users/vyronaskatsos/micromamba/envs/spaceflights310/lib/python3.10/site-packages/kedro/io/data_catalog.py\u001b\\\u001b[2mdata_catalog.py\u001b[0m\u001b]8;;\u001b\\\u001b[2m:\u001b[0m\u001b]8;id=863398;file:///Users/vyronaskatsos/micromamba/envs/spaceflights310/lib/python3.10/site-packages/kedro/io/data_catalog.py#539\u001b\\\u001b[2m539\u001b[0m\u001b]8;;\u001b\\\n",
      "\u001b[2;36m                    \u001b[0m         \u001b[1m(\u001b[0mExcelDataset\u001b[1m)\u001b[0m\u001b[33m...\u001b[0m               \u001b[2m                   \u001b[0m\n",
      "\u001b[2;36m                   \u001b[0m\u001b[2;36m \u001b[0m\u001b[33mWARNING \u001b[0m \u001b[1m[\u001b[0mhook: after_dataset_saved\u001b[1m]\u001b[0m Unable to  \u001b]8;id=717457;file:///Users/vyronaskatsos/micromamba/envs/spaceflights310/lib/python3.10/site-packages/kedro_viz/integrations/kedro/hooks.py\u001b\\\u001b[2mhooks.py\u001b[0m\u001b]8;;\u001b\\\u001b[2m:\u001b[0m\u001b]8;id=951261;file:///Users/vyronaskatsos/micromamba/envs/spaceflights310/lib/python3.10/site-packages/kedro_viz/integrations/kedro/hooks.py#133\u001b\\\u001b[2m133\u001b[0m\u001b]8;;\u001b\\\n",
      "\u001b[2;36m                    \u001b[0m         create statistics for the dataset      \u001b[2m            \u001b[0m\n",
      "\u001b[2;36m                    \u001b[0m         companies : \u001b[32m'DatasetStatsHook'\u001b[0m object  \u001b[2m            \u001b[0m\n",
      "\u001b[2;36m                    \u001b[0m         has no attribute \u001b[32m'datasets'\u001b[0m            \u001b[2m            \u001b[0m\n",
      "\u001b[2;36m                   \u001b[0m\u001b[2;36m \u001b[0m\u001b[34mINFO    \u001b[0m Running node:                           \u001b]8;id=249511;file:///Users/vyronaskatsos/micromamba/envs/spaceflights310/lib/python3.10/site-packages/kedro/pipeline/node.py\u001b\\\u001b[2mnode.py\u001b[0m\u001b]8;;\u001b\\\u001b[2m:\u001b[0m\u001b]8;id=63273;file:///Users/vyronaskatsos/micromamba/envs/spaceflights310/lib/python3.10/site-packages/kedro/pipeline/node.py#364\u001b\\\u001b[2m364\u001b[0m\u001b]8;;\u001b\\\n",
      "\u001b[2;36m                    \u001b[0m         preprocess_companies_node:              \u001b[2m           \u001b[0m\n",
      "\u001b[2;36m                    \u001b[0m         \u001b[1;35mpreprocess_companies\u001b[0m\u001b[1m(\u001b[0m\u001b[1m[\u001b[0mcompanies\u001b[1m]\u001b[0m\u001b[1m)\u001b[0m ->    \u001b[2m           \u001b[0m\n",
      "\u001b[2;36m                    \u001b[0m         \u001b[1m[\u001b[0mpreprocessed_companies;companies_colum \u001b[2m           \u001b[0m\n",
      "\u001b[2;36m                    \u001b[0m         ns\u001b[1m]\u001b[0m                                     \u001b[2m           \u001b[0m\n",
      "\u001b[2;36m                   \u001b[0m\u001b[2;36m \u001b[0m\u001b[34mINFO    \u001b[0m Saving data to                  \u001b]8;id=779815;file:///Users/vyronaskatsos/micromamba/envs/spaceflights310/lib/python3.10/site-packages/kedro/io/data_catalog.py\u001b\\\u001b[2mdata_catalog.py\u001b[0m\u001b]8;;\u001b\\\u001b[2m:\u001b[0m\u001b]8;id=103208;file:///Users/vyronaskatsos/micromamba/envs/spaceflights310/lib/python3.10/site-packages/kedro/io/data_catalog.py#581\u001b\\\u001b[2m581\u001b[0m\u001b]8;;\u001b\\\n",
      "\u001b[2;36m                    \u001b[0m         \u001b[38;5;208mpreprocessed_companies\u001b[0m          \u001b[2m                   \u001b[0m\n",
      "\u001b[2;36m                    \u001b[0m         \u001b[1m(\u001b[0mParquetDataset\u001b[1m)\u001b[0m\u001b[33m...\u001b[0m             \u001b[2m                   \u001b[0m\n",
      "\u001b[2;36m                   \u001b[0m\u001b[2;36m \u001b[0m\u001b[33mWARNING \u001b[0m \u001b[1m[\u001b[0mhook: after_dataset_saved\u001b[1m]\u001b[0m Unable to  \u001b]8;id=758045;file:///Users/vyronaskatsos/micromamba/envs/spaceflights310/lib/python3.10/site-packages/kedro_viz/integrations/kedro/hooks.py\u001b\\\u001b[2mhooks.py\u001b[0m\u001b]8;;\u001b\\\u001b[2m:\u001b[0m\u001b]8;id=516711;file:///Users/vyronaskatsos/micromamba/envs/spaceflights310/lib/python3.10/site-packages/kedro_viz/integrations/kedro/hooks.py#133\u001b\\\u001b[2m133\u001b[0m\u001b]8;;\u001b\\\n",
      "\u001b[2;36m                    \u001b[0m         create statistics for the dataset      \u001b[2m            \u001b[0m\n",
      "\u001b[2;36m                    \u001b[0m         preprocessed_companies :               \u001b[2m            \u001b[0m\n",
      "\u001b[2;36m                    \u001b[0m         \u001b[32m'DatasetStatsHook'\u001b[0m object has no       \u001b[2m            \u001b[0m\n",
      "\u001b[2;36m                    \u001b[0m         attribute \u001b[32m'datasets'\u001b[0m                   \u001b[2m            \u001b[0m\n",
      "\u001b[2;36m                   \u001b[0m\u001b[2;36m \u001b[0m\u001b[34mINFO    \u001b[0m Saving data to                  \u001b]8;id=200257;file:///Users/vyronaskatsos/micromamba/envs/spaceflights310/lib/python3.10/site-packages/kedro/io/data_catalog.py\u001b\\\u001b[2mdata_catalog.py\u001b[0m\u001b]8;;\u001b\\\u001b[2m:\u001b[0m\u001b]8;id=795909;file:///Users/vyronaskatsos/micromamba/envs/spaceflights310/lib/python3.10/site-packages/kedro/io/data_catalog.py#581\u001b\\\u001b[2m581\u001b[0m\u001b]8;;\u001b\\\n",
      "\u001b[2;36m                    \u001b[0m         \u001b[38;5;208mcompanies_columns\u001b[0m               \u001b[2m                   \u001b[0m\n",
      "\u001b[2;36m                    \u001b[0m         \u001b[1m(\u001b[0mJSONDataset\u001b[1m)\u001b[0m\u001b[33m...\u001b[0m                \u001b[2m                   \u001b[0m\n",
      "\u001b[2;36m[09/04/24 11:43:59]\u001b[0m\u001b[2;36m \u001b[0m\u001b[34mINFO    \u001b[0m Loading data from \u001b[38;5;208mcompanies\u001b[0m     \u001b]8;id=994293;file:///Users/vyronaskatsos/micromamba/envs/spaceflights310/lib/python3.10/site-packages/kedro/io/data_catalog.py\u001b\\\u001b[2mdata_catalog.py\u001b[0m\u001b]8;;\u001b\\\u001b[2m:\u001b[0m\u001b]8;id=453186;file:///Users/vyronaskatsos/micromamba/envs/spaceflights310/lib/python3.10/site-packages/kedro/io/data_catalog.py#539\u001b\\\u001b[2m539\u001b[0m\u001b]8;;\u001b\\\n",
      "\u001b[2;36m                    \u001b[0m         \u001b[1m(\u001b[0mCSVDataset\u001b[1m)\u001b[0m\u001b[33m...\u001b[0m                 \u001b[2m                   \u001b[0m\n",
      "\u001b[2;36m                   \u001b[0m\u001b[2;36m \u001b[0m\u001b[33mWARNING \u001b[0m \u001b[1m[\u001b[0mhook: after_dataset_saved\u001b[1m]\u001b[0m Unable to  \u001b]8;id=523283;file:///Users/vyronaskatsos/micromamba/envs/spaceflights310/lib/python3.10/site-packages/kedro_viz/integrations/kedro/hooks.py\u001b\\\u001b[2mhooks.py\u001b[0m\u001b]8;;\u001b\\\u001b[2m:\u001b[0m\u001b]8;id=425680;file:///Users/vyronaskatsos/micromamba/envs/spaceflights310/lib/python3.10/site-packages/kedro_viz/integrations/kedro/hooks.py#133\u001b\\\u001b[2m133\u001b[0m\u001b]8;;\u001b\\\n",
      "\u001b[2;36m                    \u001b[0m         create statistics for the dataset      \u001b[2m            \u001b[0m\n",
      "\u001b[2;36m                    \u001b[0m         companies : \u001b[32m'DatasetStatsHook'\u001b[0m object  \u001b[2m            \u001b[0m\n",
      "\u001b[2;36m                    \u001b[0m         has no attribute \u001b[32m'datasets'\u001b[0m            \u001b[2m            \u001b[0m\n",
      "\u001b[2;36m                   \u001b[0m\u001b[2;36m \u001b[0m\u001b[34mINFO    \u001b[0m Running node:                           \u001b]8;id=663387;file:///Users/vyronaskatsos/micromamba/envs/spaceflights310/lib/python3.10/site-packages/kedro/pipeline/node.py\u001b\\\u001b[2mnode.py\u001b[0m\u001b]8;;\u001b\\\u001b[2m:\u001b[0m\u001b]8;id=197549;file:///Users/vyronaskatsos/micromamba/envs/spaceflights310/lib/python3.10/site-packages/kedro/pipeline/node.py#364\u001b\\\u001b[2m364\u001b[0m\u001b]8;;\u001b\\\n",
      "\u001b[2;36m                    \u001b[0m         \u001b[1;35mcreate_confusion_matrix\u001b[0m\u001b[1m(\u001b[0m\u001b[1m[\u001b[0mcompanies\u001b[1m]\u001b[0m\u001b[1m)\u001b[0m -> \u001b[2m           \u001b[0m\n",
      "\u001b[2;36m                    \u001b[0m         \u001b[1m[\u001b[0mdummy_confusion_matrix\u001b[1m]\u001b[0m                \u001b[2m           \u001b[0m\n",
      "\u001b[2;36m                   \u001b[0m\u001b[2;36m \u001b[0m\u001b[34mINFO    \u001b[0m Saving data to                  \u001b]8;id=836284;file:///Users/vyronaskatsos/micromamba/envs/spaceflights310/lib/python3.10/site-packages/kedro/io/data_catalog.py\u001b\\\u001b[2mdata_catalog.py\u001b[0m\u001b]8;;\u001b\\\u001b[2m:\u001b[0m\u001b]8;id=237272;file:///Users/vyronaskatsos/micromamba/envs/spaceflights310/lib/python3.10/site-packages/kedro/io/data_catalog.py#581\u001b\\\u001b[2m581\u001b[0m\u001b]8;;\u001b\\\n",
      "\u001b[2;36m                    \u001b[0m         \u001b[38;5;208mdummy_confusion_matrix\u001b[0m          \u001b[2m                   \u001b[0m\n",
      "\u001b[2;36m                    \u001b[0m         \u001b[1m(\u001b[0mMatplotlibWriter\u001b[1m)\u001b[0m\u001b[33m...\u001b[0m           \u001b[2m                   \u001b[0m\n",
      "\u001b[2;36m[09/04/24 11:44:01]\u001b[0m\u001b[2;36m \u001b[0m\u001b[33mWARNING \u001b[0m \u001b[1m[\u001b[0mhook: after_dataset_saved\u001b[1m]\u001b[0m Unable to  \u001b]8;id=448437;file:///Users/vyronaskatsos/micromamba/envs/spaceflights310/lib/python3.10/site-packages/kedro_viz/integrations/kedro/hooks.py\u001b\\\u001b[2mhooks.py\u001b[0m\u001b]8;;\u001b\\\u001b[2m:\u001b[0m\u001b]8;id=533106;file:///Users/vyronaskatsos/micromamba/envs/spaceflights310/lib/python3.10/site-packages/kedro_viz/integrations/kedro/hooks.py#133\u001b\\\u001b[2m133\u001b[0m\u001b]8;;\u001b\\\n",
      "\u001b[2;36m                    \u001b[0m         create statistics for the dataset      \u001b[2m            \u001b[0m\n",
      "\u001b[2;36m                    \u001b[0m         shuttles : \u001b[32m'DatasetStatsHook'\u001b[0m object   \u001b[2m            \u001b[0m\n",
      "\u001b[2;36m                    \u001b[0m         has no attribute \u001b[32m'datasets'\u001b[0m            \u001b[2m            \u001b[0m\n",
      "\u001b[2;36m                   \u001b[0m\u001b[2;36m \u001b[0m\u001b[34mINFO    \u001b[0m Running node: preprocess_shuttles_node: \u001b]8;id=942327;file:///Users/vyronaskatsos/micromamba/envs/spaceflights310/lib/python3.10/site-packages/kedro/pipeline/node.py\u001b\\\u001b[2mnode.py\u001b[0m\u001b]8;;\u001b\\\u001b[2m:\u001b[0m\u001b]8;id=127360;file:///Users/vyronaskatsos/micromamba/envs/spaceflights310/lib/python3.10/site-packages/kedro/pipeline/node.py#364\u001b\\\u001b[2m364\u001b[0m\u001b]8;;\u001b\\\n",
      "\u001b[2;36m                    \u001b[0m         \u001b[1;35mpreprocess_shuttles\u001b[0m\u001b[1m(\u001b[0m\u001b[1m[\u001b[0mshuttles\u001b[1m]\u001b[0m\u001b[1m)\u001b[0m ->      \u001b[2m           \u001b[0m\n",
      "\u001b[2;36m                    \u001b[0m         \u001b[1m[\u001b[0mpreprocessed_shuttles\u001b[1m]\u001b[0m                 \u001b[2m           \u001b[0m\n",
      "\u001b[2;36m                   \u001b[0m\u001b[2;36m \u001b[0m\u001b[34mINFO    \u001b[0m Saving data to                  \u001b]8;id=516210;file:///Users/vyronaskatsos/micromamba/envs/spaceflights310/lib/python3.10/site-packages/kedro/io/data_catalog.py\u001b\\\u001b[2mdata_catalog.py\u001b[0m\u001b]8;;\u001b\\\u001b[2m:\u001b[0m\u001b]8;id=144120;file:///Users/vyronaskatsos/micromamba/envs/spaceflights310/lib/python3.10/site-packages/kedro/io/data_catalog.py#581\u001b\\\u001b[2m581\u001b[0m\u001b]8;;\u001b\\\n",
      "\u001b[2;36m                    \u001b[0m         \u001b[38;5;208mpreprocessed_shuttles\u001b[0m           \u001b[2m                   \u001b[0m\n",
      "\u001b[2;36m                    \u001b[0m         \u001b[1m(\u001b[0mParquetDataset\u001b[1m)\u001b[0m\u001b[33m...\u001b[0m             \u001b[2m                   \u001b[0m\n",
      "\u001b[2;36m                   \u001b[0m\u001b[2;36m \u001b[0m\u001b[33mWARNING \u001b[0m \u001b[1m[\u001b[0mhook: after_dataset_saved\u001b[1m]\u001b[0m Unable to  \u001b]8;id=30039;file:///Users/vyronaskatsos/micromamba/envs/spaceflights310/lib/python3.10/site-packages/kedro_viz/integrations/kedro/hooks.py\u001b\\\u001b[2mhooks.py\u001b[0m\u001b]8;;\u001b\\\u001b[2m:\u001b[0m\u001b]8;id=863527;file:///Users/vyronaskatsos/micromamba/envs/spaceflights310/lib/python3.10/site-packages/kedro_viz/integrations/kedro/hooks.py#133\u001b\\\u001b[2m133\u001b[0m\u001b]8;;\u001b\\\n",
      "\u001b[2;36m                    \u001b[0m         create statistics for the dataset      \u001b[2m            \u001b[0m\n",
      "\u001b[2;36m                    \u001b[0m         preprocessed_shuttles :                \u001b[2m            \u001b[0m\n",
      "\u001b[2;36m                    \u001b[0m         \u001b[32m'DatasetStatsHook'\u001b[0m object has no       \u001b[2m            \u001b[0m\n",
      "\u001b[2;36m                    \u001b[0m         attribute \u001b[32m'datasets'\u001b[0m                   \u001b[2m            \u001b[0m\n",
      "\u001b[2;36m[09/04/24 11:44:01]\u001b[0m\u001b[2;36m \u001b[0m\u001b[34mINFO    \u001b[0m Loading data from               \u001b]8;id=237597;file:///Users/vyronaskatsos/micromamba/envs/spaceflights310/lib/python3.10/site-packages/kedro/io/data_catalog.py\u001b\\\u001b[2mdata_catalog.py\u001b[0m\u001b]8;;\u001b\\\u001b[2m:\u001b[0m\u001b]8;id=359993;file:///Users/vyronaskatsos/micromamba/envs/spaceflights310/lib/python3.10/site-packages/kedro/io/data_catalog.py#539\u001b\\\u001b[2m539\u001b[0m\u001b]8;;\u001b\\\n",
      "\u001b[2;36m                    \u001b[0m         \u001b[38;5;208mpreprocessed_shuttles\u001b[0m           \u001b[2m                   \u001b[0m\n",
      "\u001b[2;36m                    \u001b[0m         \u001b[1m(\u001b[0mParquetDataset\u001b[1m)\u001b[0m\u001b[33m...\u001b[0m             \u001b[2m                   \u001b[0m\n",
      "\u001b[2;36m[09/04/24 11:44:02]\u001b[0m\u001b[2;36m \u001b[0m\u001b[33mWARNING \u001b[0m \u001b[1m[\u001b[0mhook: after_dataset_saved\u001b[1m]\u001b[0m Unable to  \u001b]8;id=729795;file:///Users/vyronaskatsos/micromamba/envs/spaceflights310/lib/python3.10/site-packages/kedro_viz/integrations/kedro/hooks.py\u001b\\\u001b[2mhooks.py\u001b[0m\u001b]8;;\u001b\\\u001b[2m:\u001b[0m\u001b]8;id=667706;file:///Users/vyronaskatsos/micromamba/envs/spaceflights310/lib/python3.10/site-packages/kedro_viz/integrations/kedro/hooks.py#133\u001b\\\u001b[2m133\u001b[0m\u001b]8;;\u001b\\\n",
      "\u001b[2;36m                    \u001b[0m         create statistics for the dataset      \u001b[2m            \u001b[0m\n",
      "\u001b[2;36m                    \u001b[0m         preprocessed_shuttles :                \u001b[2m            \u001b[0m\n",
      "\u001b[2;36m                    \u001b[0m         \u001b[32m'DatasetStatsHook'\u001b[0m object has no       \u001b[2m            \u001b[0m\n",
      "\u001b[2;36m                    \u001b[0m         attribute \u001b[32m'datasets'\u001b[0m                   \u001b[2m            \u001b[0m\n",
      "\u001b[2;36m                   \u001b[0m\u001b[2;36m \u001b[0m\u001b[34mINFO    \u001b[0m Loading data from               \u001b]8;id=208010;file:///Users/vyronaskatsos/micromamba/envs/spaceflights310/lib/python3.10/site-packages/kedro/io/data_catalog.py\u001b\\\u001b[2mdata_catalog.py\u001b[0m\u001b]8;;\u001b\\\u001b[2m:\u001b[0m\u001b]8;id=390093;file:///Users/vyronaskatsos/micromamba/envs/spaceflights310/lib/python3.10/site-packages/kedro/io/data_catalog.py#539\u001b\\\u001b[2m539\u001b[0m\u001b]8;;\u001b\\\n",
      "\u001b[2;36m                    \u001b[0m         \u001b[38;5;208mpreprocessed_companies\u001b[0m          \u001b[2m                   \u001b[0m\n",
      "\u001b[2;36m                    \u001b[0m         \u001b[1m(\u001b[0mParquetDataset\u001b[1m)\u001b[0m\u001b[33m...\u001b[0m             \u001b[2m                   \u001b[0m\n",
      "\u001b[2;36m                   \u001b[0m\u001b[2;36m \u001b[0m\u001b[33mWARNING \u001b[0m \u001b[1m[\u001b[0mhook: after_dataset_saved\u001b[1m]\u001b[0m Unable to  \u001b]8;id=810453;file:///Users/vyronaskatsos/micromamba/envs/spaceflights310/lib/python3.10/site-packages/kedro_viz/integrations/kedro/hooks.py\u001b\\\u001b[2mhooks.py\u001b[0m\u001b]8;;\u001b\\\u001b[2m:\u001b[0m\u001b]8;id=657143;file:///Users/vyronaskatsos/micromamba/envs/spaceflights310/lib/python3.10/site-packages/kedro_viz/integrations/kedro/hooks.py#133\u001b\\\u001b[2m133\u001b[0m\u001b]8;;\u001b\\\n",
      "\u001b[2;36m                    \u001b[0m         create statistics for the dataset      \u001b[2m            \u001b[0m\n",
      "\u001b[2;36m                    \u001b[0m         preprocessed_companies :               \u001b[2m            \u001b[0m\n",
      "\u001b[2;36m                    \u001b[0m         \u001b[32m'DatasetStatsHook'\u001b[0m object has no       \u001b[2m            \u001b[0m\n",
      "\u001b[2;36m                    \u001b[0m         attribute \u001b[32m'datasets'\u001b[0m                   \u001b[2m            \u001b[0m\n",
      "\u001b[2;36m                   \u001b[0m\u001b[2;36m \u001b[0m\u001b[34mINFO    \u001b[0m Loading data from \u001b[38;5;208mreviews\u001b[0m       \u001b]8;id=955722;file:///Users/vyronaskatsos/micromamba/envs/spaceflights310/lib/python3.10/site-packages/kedro/io/data_catalog.py\u001b\\\u001b[2mdata_catalog.py\u001b[0m\u001b]8;;\u001b\\\u001b[2m:\u001b[0m\u001b]8;id=945489;file:///Users/vyronaskatsos/micromamba/envs/spaceflights310/lib/python3.10/site-packages/kedro/io/data_catalog.py#539\u001b\\\u001b[2m539\u001b[0m\u001b]8;;\u001b\\\n",
      "\u001b[2;36m                    \u001b[0m         \u001b[1m(\u001b[0mCSVDataset\u001b[1m)\u001b[0m\u001b[33m...\u001b[0m                 \u001b[2m                   \u001b[0m\n",
      "\u001b[2;36m                   \u001b[0m\u001b[2;36m \u001b[0m\u001b[33mWARNING \u001b[0m \u001b[1m[\u001b[0mhook: after_dataset_saved\u001b[1m]\u001b[0m Unable to  \u001b]8;id=179334;file:///Users/vyronaskatsos/micromamba/envs/spaceflights310/lib/python3.10/site-packages/kedro_viz/integrations/kedro/hooks.py\u001b\\\u001b[2mhooks.py\u001b[0m\u001b]8;;\u001b\\\u001b[2m:\u001b[0m\u001b]8;id=754985;file:///Users/vyronaskatsos/micromamba/envs/spaceflights310/lib/python3.10/site-packages/kedro_viz/integrations/kedro/hooks.py#133\u001b\\\u001b[2m133\u001b[0m\u001b]8;;\u001b\\\n",
      "\u001b[2;36m                    \u001b[0m         create statistics for the dataset      \u001b[2m            \u001b[0m\n",
      "\u001b[2;36m                    \u001b[0m         reviews : \u001b[32m'DatasetStatsHook'\u001b[0m object    \u001b[2m            \u001b[0m\n",
      "\u001b[2;36m                    \u001b[0m         has no attribute \u001b[32m'datasets'\u001b[0m            \u001b[2m            \u001b[0m\n",
      "\u001b[2;36m                   \u001b[0m\u001b[2;36m \u001b[0m\u001b[34mINFO    \u001b[0m Running node:                           \u001b]8;id=854611;file:///Users/vyronaskatsos/micromamba/envs/spaceflights310/lib/python3.10/site-packages/kedro/pipeline/node.py\u001b\\\u001b[2mnode.py\u001b[0m\u001b]8;;\u001b\\\u001b[2m:\u001b[0m\u001b]8;id=21642;file:///Users/vyronaskatsos/micromamba/envs/spaceflights310/lib/python3.10/site-packages/kedro/pipeline/node.py#364\u001b\\\u001b[2m364\u001b[0m\u001b]8;;\u001b\\\n",
      "\u001b[2;36m                    \u001b[0m         create_model_input_table_node:          \u001b[2m           \u001b[0m\n",
      "\u001b[2;36m                    \u001b[0m         \u001b[1;35mcreate_model_input_table\u001b[0m\u001b[1m(\u001b[0m\u001b[1m[\u001b[0mpreprocessed_ \u001b[2m           \u001b[0m\n",
      "\u001b[2;36m                    \u001b[0m         shuttles;preprocessed_companies;reviews \u001b[2m           \u001b[0m\n",
      "\u001b[2;36m                    \u001b[0m         \u001b[1m]\u001b[0m\u001b[1m)\u001b[0m -> \u001b[1m[\u001b[0mmodel_input_table\u001b[1m]\u001b[0m               \u001b[2m           \u001b[0m\n",
      "\u001b[2;36m                   \u001b[0m\u001b[2;36m \u001b[0m\u001b[34mINFO    \u001b[0m Saving data to                  \u001b]8;id=892470;file:///Users/vyronaskatsos/micromamba/envs/spaceflights310/lib/python3.10/site-packages/kedro/io/data_catalog.py\u001b\\\u001b[2mdata_catalog.py\u001b[0m\u001b]8;;\u001b\\\u001b[2m:\u001b[0m\u001b]8;id=229772;file:///Users/vyronaskatsos/micromamba/envs/spaceflights310/lib/python3.10/site-packages/kedro/io/data_catalog.py#581\u001b\\\u001b[2m581\u001b[0m\u001b]8;;\u001b\\\n",
      "\u001b[2;36m                    \u001b[0m         \u001b[38;5;208mmodel_input_table\u001b[0m               \u001b[2m                   \u001b[0m\n",
      "\u001b[2;36m                    \u001b[0m         \u001b[1m(\u001b[0mParquetDataset\u001b[1m)\u001b[0m\u001b[33m...\u001b[0m             \u001b[2m                   \u001b[0m\n",
      "\u001b[2;36m                   \u001b[0m\u001b[2;36m \u001b[0m\u001b[33mWARNING \u001b[0m \u001b[1m[\u001b[0mhook: after_dataset_saved\u001b[1m]\u001b[0m Unable to  \u001b]8;id=456266;file:///Users/vyronaskatsos/micromamba/envs/spaceflights310/lib/python3.10/site-packages/kedro_viz/integrations/kedro/hooks.py\u001b\\\u001b[2mhooks.py\u001b[0m\u001b]8;;\u001b\\\u001b[2m:\u001b[0m\u001b]8;id=979693;file:///Users/vyronaskatsos/micromamba/envs/spaceflights310/lib/python3.10/site-packages/kedro_viz/integrations/kedro/hooks.py#133\u001b\\\u001b[2m133\u001b[0m\u001b]8;;\u001b\\\n",
      "\u001b[2;36m                    \u001b[0m         create statistics for the dataset      \u001b[2m            \u001b[0m\n",
      "\u001b[2;36m                    \u001b[0m         model_input_table : \u001b[32m'DatasetStatsHook'\u001b[0m \u001b[2m            \u001b[0m\n",
      "\u001b[2;36m                    \u001b[0m         object has no attribute \u001b[32m'datasets'\u001b[0m     \u001b[2m            \u001b[0m\n",
      "\u001b[2;36m[09/04/24 11:44:02]\u001b[0m\u001b[2;36m \u001b[0m\u001b[34mINFO    \u001b[0m Loading data from               \u001b]8;id=265842;file:///Users/vyronaskatsos/micromamba/envs/spaceflights310/lib/python3.10/site-packages/kedro/io/data_catalog.py\u001b\\\u001b[2mdata_catalog.py\u001b[0m\u001b]8;;\u001b\\\u001b[2m:\u001b[0m\u001b]8;id=468217;file:///Users/vyronaskatsos/micromamba/envs/spaceflights310/lib/python3.10/site-packages/kedro/io/data_catalog.py#539\u001b\\\u001b[2m539\u001b[0m\u001b]8;;\u001b\\\n",
      "\u001b[2;36m                    \u001b[0m         \u001b[38;5;208mpreprocessed_shuttles\u001b[0m           \u001b[2m                   \u001b[0m\n",
      "\u001b[2;36m                    \u001b[0m         \u001b[1m(\u001b[0mParquetDataset\u001b[1m)\u001b[0m\u001b[33m...\u001b[0m             \u001b[2m                   \u001b[0m\n",
      "\u001b[2;36m[09/04/24 11:44:02]\u001b[0m\u001b[2;36m \u001b[0m\u001b[34mINFO    \u001b[0m Loading data from               \u001b]8;id=734299;file:///Users/vyronaskatsos/micromamba/envs/spaceflights310/lib/python3.10/site-packages/kedro/io/data_catalog.py\u001b\\\u001b[2mdata_catalog.py\u001b[0m\u001b]8;;\u001b\\\u001b[2m:\u001b[0m\u001b]8;id=579905;file:///Users/vyronaskatsos/micromamba/envs/spaceflights310/lib/python3.10/site-packages/kedro/io/data_catalog.py#539\u001b\\\u001b[2m539\u001b[0m\u001b]8;;\u001b\\\n",
      "\u001b[2;36m                    \u001b[0m         \u001b[38;5;208mmodel_input_table\u001b[0m               \u001b[2m                   \u001b[0m\n",
      "\u001b[2;36m                    \u001b[0m         \u001b[1m(\u001b[0mParquetDataset\u001b[1m)\u001b[0m\u001b[33m...\u001b[0m             \u001b[2m                   \u001b[0m\n",
      "\u001b[2;36m                   \u001b[0m\u001b[2;36m \u001b[0m\u001b[33mWARNING \u001b[0m \u001b[1m[\u001b[0mhook: after_dataset_saved\u001b[1m]\u001b[0m Unable to  \u001b]8;id=950080;file:///Users/vyronaskatsos/micromamba/envs/spaceflights310/lib/python3.10/site-packages/kedro_viz/integrations/kedro/hooks.py\u001b\\\u001b[2mhooks.py\u001b[0m\u001b]8;;\u001b\\\u001b[2m:\u001b[0m\u001b]8;id=270427;file:///Users/vyronaskatsos/micromamba/envs/spaceflights310/lib/python3.10/site-packages/kedro_viz/integrations/kedro/hooks.py#133\u001b\\\u001b[2m133\u001b[0m\u001b]8;;\u001b\\\n",
      "\u001b[2;36m                    \u001b[0m         create statistics for the dataset      \u001b[2m            \u001b[0m\n",
      "\u001b[2;36m                    \u001b[0m         model_input_table : \u001b[32m'DatasetStatsHook'\u001b[0m \u001b[2m            \u001b[0m\n",
      "\u001b[2;36m                    \u001b[0m         object has no attribute \u001b[32m'datasets'\u001b[0m     \u001b[2m            \u001b[0m\n",
      "\u001b[2;36m                   \u001b[0m\u001b[2;36m \u001b[0m\u001b[34mINFO    \u001b[0m Loading data from               \u001b]8;id=648796;file:///Users/vyronaskatsos/micromamba/envs/spaceflights310/lib/python3.10/site-packages/kedro/io/data_catalog.py\u001b\\\u001b[2mdata_catalog.py\u001b[0m\u001b]8;;\u001b\\\u001b[2m:\u001b[0m\u001b]8;id=596023;file:///Users/vyronaskatsos/micromamba/envs/spaceflights310/lib/python3.10/site-packages/kedro/io/data_catalog.py#539\u001b\\\u001b[2m539\u001b[0m\u001b]8;;\u001b\\\n",
      "\u001b[2;36m                    \u001b[0m         \u001b[38;5;208mparams:model_options\u001b[0m            \u001b[2m                   \u001b[0m\n",
      "\u001b[2;36m                    \u001b[0m         \u001b[1m(\u001b[0mMemoryDataset\u001b[1m)\u001b[0m\u001b[33m...\u001b[0m              \u001b[2m                   \u001b[0m\n",
      "\u001b[2;36m[09/04/24 11:44:02]\u001b[0m\u001b[2;36m \u001b[0m\u001b[34mINFO    \u001b[0m Loading data from               \u001b]8;id=848630;file:///Users/vyronaskatsos/micromamba/envs/spaceflights310/lib/python3.10/site-packages/kedro/io/data_catalog.py\u001b\\\u001b[2mdata_catalog.py\u001b[0m\u001b]8;;\u001b\\\u001b[2m:\u001b[0m\u001b]8;id=288000;file:///Users/vyronaskatsos/micromamba/envs/spaceflights310/lib/python3.10/site-packages/kedro/io/data_catalog.py#539\u001b\\\u001b[2m539\u001b[0m\u001b]8;;\u001b\\\n",
      "\u001b[2;36m                    \u001b[0m         \u001b[38;5;208mpreprocessed_shuttles\u001b[0m           \u001b[2m                   \u001b[0m\n",
      "\u001b[2;36m                    \u001b[0m         \u001b[1m(\u001b[0mParquetDataset\u001b[1m)\u001b[0m\u001b[33m...\u001b[0m             \u001b[2m                   \u001b[0m\n",
      "\u001b[2;36m                   \u001b[0m\u001b[2;36m \u001b[0m\u001b[34mINFO    \u001b[0m Running node: split_data_node:          \u001b]8;id=626678;file:///Users/vyronaskatsos/micromamba/envs/spaceflights310/lib/python3.10/site-packages/kedro/pipeline/node.py\u001b\\\u001b[2mnode.py\u001b[0m\u001b]8;;\u001b\\\u001b[2m:\u001b[0m\u001b]8;id=481958;file:///Users/vyronaskatsos/micromamba/envs/spaceflights310/lib/python3.10/site-packages/kedro/pipeline/node.py#364\u001b\\\u001b[2m364\u001b[0m\u001b]8;;\u001b\\\n",
      "\u001b[2;36m                    \u001b[0m         \u001b[1;35msplit_data\u001b[0m\u001b[1m(\u001b[0m\u001b[1m[\u001b[0mmodel_input_table;params:mo \u001b[2m           \u001b[0m\n",
      "\u001b[2;36m                    \u001b[0m         del_options\u001b[1m]\u001b[0m\u001b[1m)\u001b[0m ->                        \u001b[2m           \u001b[0m\n",
      "\u001b[2;36m                    \u001b[0m         \u001b[1m[\u001b[0mX_train;X_test;y_train;y_test\u001b[1m]\u001b[0m         \u001b[2m           \u001b[0m\n",
      "\u001b[2;36m                   \u001b[0m\u001b[2;36m \u001b[0m\u001b[33mWARNING \u001b[0m \u001b[1m[\u001b[0mhook: after_dataset_saved\u001b[1m]\u001b[0m Unable to  \u001b]8;id=806183;file:///Users/vyronaskatsos/micromamba/envs/spaceflights310/lib/python3.10/site-packages/kedro_viz/integrations/kedro/hooks.py\u001b\\\u001b[2mhooks.py\u001b[0m\u001b]8;;\u001b\\\u001b[2m:\u001b[0m\u001b]8;id=194519;file:///Users/vyronaskatsos/micromamba/envs/spaceflights310/lib/python3.10/site-packages/kedro_viz/integrations/kedro/hooks.py#133\u001b\\\u001b[2m133\u001b[0m\u001b]8;;\u001b\\\n",
      "\u001b[2;36m                    \u001b[0m         create statistics for the dataset      \u001b[2m            \u001b[0m\n",
      "\u001b[2;36m                    \u001b[0m         preprocessed_shuttles :                \u001b[2m            \u001b[0m\n",
      "\u001b[2;36m                    \u001b[0m         \u001b[32m'DatasetStatsHook'\u001b[0m object has no       \u001b[2m            \u001b[0m\n",
      "\u001b[2;36m                    \u001b[0m         attribute \u001b[32m'datasets'\u001b[0m                   \u001b[2m            \u001b[0m\n",
      "\u001b[2;36m                   \u001b[0m\u001b[2;36m \u001b[0m\u001b[34mINFO    \u001b[0m Running node:                           \u001b]8;id=925284;file:///Users/vyronaskatsos/micromamba/envs/spaceflights310/lib/python3.10/site-packages/kedro/pipeline/node.py\u001b\\\u001b[2mnode.py\u001b[0m\u001b]8;;\u001b\\\u001b[2m:\u001b[0m\u001b]8;id=739824;file:///Users/vyronaskatsos/micromamba/envs/spaceflights310/lib/python3.10/site-packages/kedro/pipeline/node.py#364\u001b\\\u001b[2m364\u001b[0m\u001b]8;;\u001b\\\n",
      "\u001b[2;36m                    \u001b[0m         \u001b[1;35mcompare_passenger_capacity_exp\u001b[0m\u001b[1m(\u001b[0m\u001b[1m[\u001b[0mpreproc \u001b[2m           \u001b[0m\n",
      "\u001b[2;36m                    \u001b[0m         essed_shuttles\u001b[1m]\u001b[0m\u001b[1m)\u001b[0m ->                     \u001b[2m           \u001b[0m\n",
      "\u001b[2;36m                    \u001b[0m         \u001b[1m[\u001b[0mshuttle_passenger_capacity_plot_exp\u001b[1m]\u001b[0m   \u001b[2m           \u001b[0m\n",
      "\u001b[2;36m                   \u001b[0m\u001b[2;36m \u001b[0m\u001b[34mINFO    \u001b[0m Saving data to \u001b[38;5;208mX_train\u001b[0m          \u001b]8;id=433034;file:///Users/vyronaskatsos/micromamba/envs/spaceflights310/lib/python3.10/site-packages/kedro/io/data_catalog.py\u001b\\\u001b[2mdata_catalog.py\u001b[0m\u001b]8;;\u001b\\\u001b[2m:\u001b[0m\u001b]8;id=12763;file:///Users/vyronaskatsos/micromamba/envs/spaceflights310/lib/python3.10/site-packages/kedro/io/data_catalog.py#581\u001b\\\u001b[2m581\u001b[0m\u001b]8;;\u001b\\\n",
      "\u001b[2;36m                    \u001b[0m         \u001b[1m(\u001b[0mSharedMemoryDataset\u001b[1m)\u001b[0m\u001b[33m...\u001b[0m        \u001b[2m                   \u001b[0m\n",
      "\u001b[2;36m                   \u001b[0m\u001b[2;36m \u001b[0m\u001b[33mWARNING \u001b[0m \u001b[1m[\u001b[0mhook: after_dataset_saved\u001b[1m]\u001b[0m Unable to  \u001b]8;id=644642;file:///Users/vyronaskatsos/micromamba/envs/spaceflights310/lib/python3.10/site-packages/kedro_viz/integrations/kedro/hooks.py\u001b\\\u001b[2mhooks.py\u001b[0m\u001b]8;;\u001b\\\u001b[2m:\u001b[0m\u001b]8;id=917052;file:///Users/vyronaskatsos/micromamba/envs/spaceflights310/lib/python3.10/site-packages/kedro_viz/integrations/kedro/hooks.py#133\u001b\\\u001b[2m133\u001b[0m\u001b]8;;\u001b\\\n",
      "\u001b[2;36m                    \u001b[0m         create statistics for the dataset      \u001b[2m            \u001b[0m\n",
      "\u001b[2;36m                    \u001b[0m         preprocessed_shuttles :                \u001b[2m            \u001b[0m\n",
      "\u001b[2;36m                    \u001b[0m         \u001b[32m'DatasetStatsHook'\u001b[0m object has no       \u001b[2m            \u001b[0m\n",
      "\u001b[2;36m                    \u001b[0m         attribute \u001b[32m'datasets'\u001b[0m                   \u001b[2m            \u001b[0m\n",
      "\u001b[2;36m                   \u001b[0m\u001b[2;36m \u001b[0m\u001b[34mINFO    \u001b[0m Saving data to                  \u001b]8;id=237482;file:///Users/vyronaskatsos/micromamba/envs/spaceflights310/lib/python3.10/site-packages/kedro/io/data_catalog.py\u001b\\\u001b[2mdata_catalog.py\u001b[0m\u001b]8;;\u001b\\\u001b[2m:\u001b[0m\u001b]8;id=656508;file:///Users/vyronaskatsos/micromamba/envs/spaceflights310/lib/python3.10/site-packages/kedro/io/data_catalog.py#581\u001b\\\u001b[2m581\u001b[0m\u001b]8;;\u001b\\\n",
      "\u001b[2;36m                    \u001b[0m         \u001b[38;5;208mshuttle_passenger_capacity_plot\u001b[0m \u001b[2m                   \u001b[0m\n",
      "\u001b[2;36m                    \u001b[0m         \u001b[38;5;208m_exp\u001b[0m \u001b[1m(\u001b[0mPlotlyDataset\u001b[1m)\u001b[0m\u001b[33m...\u001b[0m         \u001b[2m                   \u001b[0m\n",
      "\u001b[2;36m                   \u001b[0m\u001b[2;36m \u001b[0m\u001b[34mINFO    \u001b[0m Running node:                           \u001b]8;id=355561;file:///Users/vyronaskatsos/micromamba/envs/spaceflights310/lib/python3.10/site-packages/kedro/pipeline/node.py\u001b\\\u001b[2mnode.py\u001b[0m\u001b]8;;\u001b\\\u001b[2m:\u001b[0m\u001b]8;id=107028;file:///Users/vyronaskatsos/micromamba/envs/spaceflights310/lib/python3.10/site-packages/kedro/pipeline/node.py#364\u001b\\\u001b[2m364\u001b[0m\u001b]8;;\u001b\\\n",
      "\u001b[2;36m                    \u001b[0m         \u001b[1;35mcompare_passenger_capacity_go\u001b[0m\u001b[1m(\u001b[0m\u001b[1m[\u001b[0mpreproce \u001b[2m           \u001b[0m\n",
      "\u001b[2;36m                    \u001b[0m         ssed_shuttles\u001b[1m]\u001b[0m\u001b[1m)\u001b[0m ->                      \u001b[2m           \u001b[0m\n",
      "\u001b[2;36m                    \u001b[0m         \u001b[1m[\u001b[0mshuttle_passenger_capacity_plot_go\u001b[1m]\u001b[0m    \u001b[2m           \u001b[0m\n",
      "\u001b[2;36m                   \u001b[0m\u001b[2;36m \u001b[0m\u001b[34mINFO    \u001b[0m Saving data to                  \u001b]8;id=407230;file:///Users/vyronaskatsos/micromamba/envs/spaceflights310/lib/python3.10/site-packages/kedro/io/data_catalog.py\u001b\\\u001b[2mdata_catalog.py\u001b[0m\u001b]8;;\u001b\\\u001b[2m:\u001b[0m\u001b]8;id=921038;file:///Users/vyronaskatsos/micromamba/envs/spaceflights310/lib/python3.10/site-packages/kedro/io/data_catalog.py#581\u001b\\\u001b[2m581\u001b[0m\u001b]8;;\u001b\\\n",
      "\u001b[2;36m                    \u001b[0m         \u001b[38;5;208mshuttle_passenger_capacity_plot\u001b[0m \u001b[2m                   \u001b[0m\n",
      "\u001b[2;36m                    \u001b[0m         \u001b[38;5;208m_go\u001b[0m \u001b[1m(\u001b[0mJSONDataset\u001b[1m)\u001b[0m\u001b[33m...\u001b[0m            \u001b[2m                   \u001b[0m\n",
      "\u001b[2;36m[09/04/24 11:44:03]\u001b[0m\u001b[2;36m \u001b[0m\u001b[33mWARNING \u001b[0m \u001b[1m[\u001b[0mhook: after_dataset_saved\u001b[1m]\u001b[0m Unable to  \u001b]8;id=719365;file:///Users/vyronaskatsos/micromamba/envs/spaceflights310/lib/python3.10/site-packages/kedro_viz/integrations/kedro/hooks.py\u001b\\\u001b[2mhooks.py\u001b[0m\u001b]8;;\u001b\\\u001b[2m:\u001b[0m\u001b]8;id=681170;file:///Users/vyronaskatsos/micromamba/envs/spaceflights310/lib/python3.10/site-packages/kedro_viz/integrations/kedro/hooks.py#133\u001b\\\u001b[2m133\u001b[0m\u001b]8;;\u001b\\\n",
      "\u001b[2;36m                    \u001b[0m         create statistics for the dataset      \u001b[2m            \u001b[0m\n",
      "\u001b[2;36m                    \u001b[0m         shuttle_passenger_capacity_plot_exp :  \u001b[2m            \u001b[0m\n",
      "\u001b[2;36m                    \u001b[0m         \u001b[32m'DatasetStatsHook'\u001b[0m object has no       \u001b[2m            \u001b[0m\n",
      "\u001b[2;36m                    \u001b[0m         attribute \u001b[32m'datasets'\u001b[0m                   \u001b[2m            \u001b[0m\n",
      "\u001b[2;36m[09/04/24 11:44:03]\u001b[0m\u001b[2;36m \u001b[0m\u001b[33mWARNING \u001b[0m \u001b[1m[\u001b[0mhook: after_dataset_saved\u001b[1m]\u001b[0m Unable to  \u001b]8;id=417808;file:///Users/vyronaskatsos/micromamba/envs/spaceflights310/lib/python3.10/site-packages/kedro_viz/integrations/kedro/hooks.py\u001b\\\u001b[2mhooks.py\u001b[0m\u001b]8;;\u001b\\\u001b[2m:\u001b[0m\u001b]8;id=571177;file:///Users/vyronaskatsos/micromamba/envs/spaceflights310/lib/python3.10/site-packages/kedro_viz/integrations/kedro/hooks.py#133\u001b\\\u001b[2m133\u001b[0m\u001b]8;;\u001b\\\n",
      "\u001b[2;36m                    \u001b[0m         create statistics for the dataset      \u001b[2m            \u001b[0m\n",
      "\u001b[2;36m                    \u001b[0m         X_train : \u001b[32m'DatasetStatsHook'\u001b[0m object    \u001b[2m            \u001b[0m\n",
      "\u001b[2;36m                    \u001b[0m         has no attribute \u001b[32m'datasets'\u001b[0m            \u001b[2m            \u001b[0m\n",
      "\u001b[2;36m                   \u001b[0m\u001b[2;36m \u001b[0m\u001b[34mINFO    \u001b[0m Saving data to \u001b[38;5;208mX_test\u001b[0m           \u001b]8;id=296591;file:///Users/vyronaskatsos/micromamba/envs/spaceflights310/lib/python3.10/site-packages/kedro/io/data_catalog.py\u001b\\\u001b[2mdata_catalog.py\u001b[0m\u001b]8;;\u001b\\\u001b[2m:\u001b[0m\u001b]8;id=744239;file:///Users/vyronaskatsos/micromamba/envs/spaceflights310/lib/python3.10/site-packages/kedro/io/data_catalog.py#581\u001b\\\u001b[2m581\u001b[0m\u001b]8;;\u001b\\\n",
      "\u001b[2;36m                    \u001b[0m         \u001b[1m(\u001b[0mSharedMemoryDataset\u001b[1m)\u001b[0m\u001b[33m...\u001b[0m        \u001b[2m                   \u001b[0m\n",
      "\u001b[2;36m                   \u001b[0m\u001b[2;36m \u001b[0m\u001b[33mWARNING \u001b[0m \u001b[1m[\u001b[0mhook: after_dataset_saved\u001b[1m]\u001b[0m Unable to  \u001b]8;id=930351;file:///Users/vyronaskatsos/micromamba/envs/spaceflights310/lib/python3.10/site-packages/kedro_viz/integrations/kedro/hooks.py\u001b\\\u001b[2mhooks.py\u001b[0m\u001b]8;;\u001b\\\u001b[2m:\u001b[0m\u001b]8;id=826929;file:///Users/vyronaskatsos/micromamba/envs/spaceflights310/lib/python3.10/site-packages/kedro_viz/integrations/kedro/hooks.py#133\u001b\\\u001b[2m133\u001b[0m\u001b]8;;\u001b\\\n",
      "\u001b[2;36m                    \u001b[0m         create statistics for the dataset      \u001b[2m            \u001b[0m\n",
      "\u001b[2;36m                    \u001b[0m         X_test : \u001b[32m'DatasetStatsHook'\u001b[0m object has \u001b[2m            \u001b[0m\n",
      "\u001b[2;36m                    \u001b[0m         no attribute \u001b[32m'datasets'\u001b[0m                \u001b[2m            \u001b[0m\n",
      "\u001b[2;36m                   \u001b[0m\u001b[2;36m \u001b[0m\u001b[34mINFO    \u001b[0m Saving data to \u001b[38;5;208my_train\u001b[0m          \u001b]8;id=418282;file:///Users/vyronaskatsos/micromamba/envs/spaceflights310/lib/python3.10/site-packages/kedro/io/data_catalog.py\u001b\\\u001b[2mdata_catalog.py\u001b[0m\u001b]8;;\u001b\\\u001b[2m:\u001b[0m\u001b]8;id=807843;file:///Users/vyronaskatsos/micromamba/envs/spaceflights310/lib/python3.10/site-packages/kedro/io/data_catalog.py#581\u001b\\\u001b[2m581\u001b[0m\u001b]8;;\u001b\\\n",
      "\u001b[2;36m                    \u001b[0m         \u001b[1m(\u001b[0mSharedMemoryDataset\u001b[1m)\u001b[0m\u001b[33m...\u001b[0m        \u001b[2m                   \u001b[0m\n",
      "\u001b[2;36m                   \u001b[0m\u001b[2;36m \u001b[0m\u001b[34mINFO    \u001b[0m Saving data to \u001b[38;5;208my_test\u001b[0m           \u001b]8;id=473126;file:///Users/vyronaskatsos/micromamba/envs/spaceflights310/lib/python3.10/site-packages/kedro/io/data_catalog.py\u001b\\\u001b[2mdata_catalog.py\u001b[0m\u001b]8;;\u001b\\\u001b[2m:\u001b[0m\u001b]8;id=212687;file:///Users/vyronaskatsos/micromamba/envs/spaceflights310/lib/python3.10/site-packages/kedro/io/data_catalog.py#581\u001b\\\u001b[2m581\u001b[0m\u001b]8;;\u001b\\\n",
      "\u001b[2;36m                    \u001b[0m         \u001b[1m(\u001b[0mSharedMemoryDataset\u001b[1m)\u001b[0m\u001b[33m...\u001b[0m        \u001b[2m                   \u001b[0m\n",
      "\u001b[2;36m[09/04/24 11:44:03]\u001b[0m\u001b[2;36m \u001b[0m\u001b[34mINFO    \u001b[0m Loading data from \u001b[38;5;208mX_train\u001b[0m       \u001b]8;id=123877;file:///Users/vyronaskatsos/micromamba/envs/spaceflights310/lib/python3.10/site-packages/kedro/io/data_catalog.py\u001b\\\u001b[2mdata_catalog.py\u001b[0m\u001b]8;;\u001b\\\u001b[2m:\u001b[0m\u001b]8;id=179909;file:///Users/vyronaskatsos/micromamba/envs/spaceflights310/lib/python3.10/site-packages/kedro/io/data_catalog.py#539\u001b\\\u001b[2m539\u001b[0m\u001b]8;;\u001b\\\n",
      "\u001b[2;36m                    \u001b[0m         \u001b[1m(\u001b[0mSharedMemoryDataset\u001b[1m)\u001b[0m\u001b[33m...\u001b[0m        \u001b[2m                   \u001b[0m\n",
      "\u001b[2;36m                   \u001b[0m\u001b[2;36m \u001b[0m\u001b[33mWARNING \u001b[0m \u001b[1m[\u001b[0mhook: after_dataset_saved\u001b[1m]\u001b[0m Unable to  \u001b]8;id=942365;file:///Users/vyronaskatsos/micromamba/envs/spaceflights310/lib/python3.10/site-packages/kedro_viz/integrations/kedro/hooks.py\u001b\\\u001b[2mhooks.py\u001b[0m\u001b]8;;\u001b\\\u001b[2m:\u001b[0m\u001b]8;id=414712;file:///Users/vyronaskatsos/micromamba/envs/spaceflights310/lib/python3.10/site-packages/kedro_viz/integrations/kedro/hooks.py#133\u001b\\\u001b[2m133\u001b[0m\u001b]8;;\u001b\\\n",
      "\u001b[2;36m                    \u001b[0m         create statistics for the dataset      \u001b[2m            \u001b[0m\n",
      "\u001b[2;36m                    \u001b[0m         X_train : \u001b[32m'DatasetStatsHook'\u001b[0m object    \u001b[2m            \u001b[0m\n",
      "\u001b[2;36m                    \u001b[0m         has no attribute \u001b[32m'datasets'\u001b[0m            \u001b[2m            \u001b[0m\n",
      "\u001b[2;36m                   \u001b[0m\u001b[2;36m \u001b[0m\u001b[34mINFO    \u001b[0m Loading data from \u001b[38;5;208my_train\u001b[0m       \u001b]8;id=646012;file:///Users/vyronaskatsos/micromamba/envs/spaceflights310/lib/python3.10/site-packages/kedro/io/data_catalog.py\u001b\\\u001b[2mdata_catalog.py\u001b[0m\u001b]8;;\u001b\\\u001b[2m:\u001b[0m\u001b]8;id=579531;file:///Users/vyronaskatsos/micromamba/envs/spaceflights310/lib/python3.10/site-packages/kedro/io/data_catalog.py#539\u001b\\\u001b[2m539\u001b[0m\u001b]8;;\u001b\\\n",
      "\u001b[2;36m                    \u001b[0m         \u001b[1m(\u001b[0mSharedMemoryDataset\u001b[1m)\u001b[0m\u001b[33m...\u001b[0m        \u001b[2m                   \u001b[0m\n",
      "\u001b[2;36m                   \u001b[0m\u001b[2;36m \u001b[0m\u001b[34mINFO    \u001b[0m Running node: train_model_node:         \u001b]8;id=167891;file:///Users/vyronaskatsos/micromamba/envs/spaceflights310/lib/python3.10/site-packages/kedro/pipeline/node.py\u001b\\\u001b[2mnode.py\u001b[0m\u001b]8;;\u001b\\\u001b[2m:\u001b[0m\u001b]8;id=213314;file:///Users/vyronaskatsos/micromamba/envs/spaceflights310/lib/python3.10/site-packages/kedro/pipeline/node.py#364\u001b\\\u001b[2m364\u001b[0m\u001b]8;;\u001b\\\n",
      "\u001b[2;36m                    \u001b[0m         \u001b[1;35mtrain_model\u001b[0m\u001b[1m(\u001b[0m\u001b[1m[\u001b[0mX_train;y_train\u001b[1m]\u001b[0m\u001b[1m)\u001b[0m ->       \u001b[2m           \u001b[0m\n",
      "\u001b[2;36m                    \u001b[0m         \u001b[1m[\u001b[0mregressor\u001b[1m]\u001b[0m                             \u001b[2m           \u001b[0m\n",
      "\u001b[2;36m                   \u001b[0m\u001b[2;36m \u001b[0m\u001b[34mINFO    \u001b[0m Saving data to \u001b[38;5;208mregressor\u001b[0m        \u001b]8;id=53897;file:///Users/vyronaskatsos/micromamba/envs/spaceflights310/lib/python3.10/site-packages/kedro/io/data_catalog.py\u001b\\\u001b[2mdata_catalog.py\u001b[0m\u001b]8;;\u001b\\\u001b[2m:\u001b[0m\u001b]8;id=423939;file:///Users/vyronaskatsos/micromamba/envs/spaceflights310/lib/python3.10/site-packages/kedro/io/data_catalog.py#581\u001b\\\u001b[2m581\u001b[0m\u001b]8;;\u001b\\\n",
      "\u001b[2;36m                    \u001b[0m         \u001b[1m(\u001b[0mPickleDataset\u001b[1m)\u001b[0m\u001b[33m...\u001b[0m              \u001b[2m                   \u001b[0m\n",
      "\u001b[2;36m[09/04/24 11:44:03]\u001b[0m\u001b[2;36m \u001b[0m\u001b[34mINFO    \u001b[0m Loading data from \u001b[38;5;208mregressor\u001b[0m     \u001b]8;id=905320;file:///Users/vyronaskatsos/micromamba/envs/spaceflights310/lib/python3.10/site-packages/kedro/io/data_catalog.py\u001b\\\u001b[2mdata_catalog.py\u001b[0m\u001b]8;;\u001b\\\u001b[2m:\u001b[0m\u001b]8;id=129929;file:///Users/vyronaskatsos/micromamba/envs/spaceflights310/lib/python3.10/site-packages/kedro/io/data_catalog.py#539\u001b\\\u001b[2m539\u001b[0m\u001b]8;;\u001b\\\n",
      "\u001b[2;36m                    \u001b[0m         \u001b[1m(\u001b[0mPickleDataset\u001b[1m)\u001b[0m\u001b[33m...\u001b[0m              \u001b[2m                   \u001b[0m\n",
      "\u001b[2;36m                   \u001b[0m\u001b[2;36m \u001b[0m\u001b[34mINFO    \u001b[0m Loading data from \u001b[38;5;208mX_test\u001b[0m        \u001b]8;id=985038;file:///Users/vyronaskatsos/micromamba/envs/spaceflights310/lib/python3.10/site-packages/kedro/io/data_catalog.py\u001b\\\u001b[2mdata_catalog.py\u001b[0m\u001b]8;;\u001b\\\u001b[2m:\u001b[0m\u001b]8;id=624726;file:///Users/vyronaskatsos/micromamba/envs/spaceflights310/lib/python3.10/site-packages/kedro/io/data_catalog.py#539\u001b\\\u001b[2m539\u001b[0m\u001b]8;;\u001b\\\n",
      "\u001b[2;36m                    \u001b[0m         \u001b[1m(\u001b[0mSharedMemoryDataset\u001b[1m)\u001b[0m\u001b[33m...\u001b[0m        \u001b[2m                   \u001b[0m\n",
      "\u001b[2;36m                   \u001b[0m\u001b[2;36m \u001b[0m\u001b[33mWARNING \u001b[0m \u001b[1m[\u001b[0mhook: after_dataset_saved\u001b[1m]\u001b[0m Unable to  \u001b]8;id=936842;file:///Users/vyronaskatsos/micromamba/envs/spaceflights310/lib/python3.10/site-packages/kedro_viz/integrations/kedro/hooks.py\u001b\\\u001b[2mhooks.py\u001b[0m\u001b]8;;\u001b\\\u001b[2m:\u001b[0m\u001b]8;id=331511;file:///Users/vyronaskatsos/micromamba/envs/spaceflights310/lib/python3.10/site-packages/kedro_viz/integrations/kedro/hooks.py#133\u001b\\\u001b[2m133\u001b[0m\u001b]8;;\u001b\\\n",
      "\u001b[2;36m                    \u001b[0m         create statistics for the dataset      \u001b[2m            \u001b[0m\n",
      "\u001b[2;36m                    \u001b[0m         X_test : \u001b[32m'DatasetStatsHook'\u001b[0m object has \u001b[2m            \u001b[0m\n",
      "\u001b[2;36m                    \u001b[0m         no attribute \u001b[32m'datasets'\u001b[0m                \u001b[2m            \u001b[0m\n",
      "\u001b[2;36m                   \u001b[0m\u001b[2;36m \u001b[0m\u001b[34mINFO    \u001b[0m Loading data from \u001b[38;5;208my_test\u001b[0m        \u001b]8;id=879065;file:///Users/vyronaskatsos/micromamba/envs/spaceflights310/lib/python3.10/site-packages/kedro/io/data_catalog.py\u001b\\\u001b[2mdata_catalog.py\u001b[0m\u001b]8;;\u001b\\\u001b[2m:\u001b[0m\u001b]8;id=969375;file:///Users/vyronaskatsos/micromamba/envs/spaceflights310/lib/python3.10/site-packages/kedro/io/data_catalog.py#539\u001b\\\u001b[2m539\u001b[0m\u001b]8;;\u001b\\\n",
      "\u001b[2;36m                    \u001b[0m         \u001b[1m(\u001b[0mSharedMemoryDataset\u001b[1m)\u001b[0m\u001b[33m...\u001b[0m        \u001b[2m                   \u001b[0m\n",
      "\u001b[2;36m                   \u001b[0m\u001b[2;36m \u001b[0m\u001b[34mINFO    \u001b[0m Running node: evaluate_model_node:      \u001b]8;id=850720;file:///Users/vyronaskatsos/micromamba/envs/spaceflights310/lib/python3.10/site-packages/kedro/pipeline/node.py\u001b\\\u001b[2mnode.py\u001b[0m\u001b]8;;\u001b\\\u001b[2m:\u001b[0m\u001b]8;id=280734;file:///Users/vyronaskatsos/micromamba/envs/spaceflights310/lib/python3.10/site-packages/kedro/pipeline/node.py#364\u001b\\\u001b[2m364\u001b[0m\u001b]8;;\u001b\\\n",
      "\u001b[2;36m                    \u001b[0m         \u001b[1;35mevaluate_model\u001b[0m\u001b[1m(\u001b[0m\u001b[1m[\u001b[0mregressor;X_test;y_test \u001b[2m           \u001b[0m\n",
      "\u001b[2;36m                    \u001b[0m         \u001b[1m]\u001b[0m\u001b[1m)\u001b[0m -> \u001b[1m[\u001b[0mmetrics\u001b[1m]\u001b[0m                         \u001b[2m           \u001b[0m\n",
      "\u001b[2;36m                   \u001b[0m\u001b[2;36m \u001b[0m\u001b[34mINFO    \u001b[0m Model has a coefficient R^\u001b[1;36m2\u001b[0m of \u001b[1;36m0.387\u001b[0m on \u001b]8;id=120041;file:///Users/vyronaskatsos/Desktop/spaceflights/src/spaceflights/pipelines/data_science/nodes.py\u001b\\\u001b[2mnodes.py\u001b[0m\u001b]8;;\u001b\\\u001b[2m:\u001b[0m\u001b]8;id=464981;file:///Users/vyronaskatsos/Desktop/spaceflights/src/spaceflights/pipelines/data_science/nodes.py#57\u001b\\\u001b[2m57\u001b[0m\u001b]8;;\u001b\\\n",
      "\u001b[2;36m                    \u001b[0m         test data.                              \u001b[2m           \u001b[0m\n",
      "\u001b[2;36m                   \u001b[0m\u001b[2;36m \u001b[0m\u001b[34mINFO    \u001b[0m Saving data to \u001b[38;5;208mmetrics\u001b[0m          \u001b]8;id=928874;file:///Users/vyronaskatsos/micromamba/envs/spaceflights310/lib/python3.10/site-packages/kedro/io/data_catalog.py\u001b\\\u001b[2mdata_catalog.py\u001b[0m\u001b]8;;\u001b\\\u001b[2m:\u001b[0m\u001b]8;id=203758;file:///Users/vyronaskatsos/micromamba/envs/spaceflights310/lib/python3.10/site-packages/kedro/io/data_catalog.py#581\u001b\\\u001b[2m581\u001b[0m\u001b]8;;\u001b\\\n",
      "\u001b[2;36m                    \u001b[0m         \u001b[1m(\u001b[0mMetricsDataset\u001b[1m)\u001b[0m\u001b[33m...\u001b[0m             \u001b[2m                   \u001b[0m\n"
     ]
    },
    {
     "data": {
      "text/html": [
       "<pre style=\"white-space:pre;overflow-x:auto;line-height:normal;font-family:Menlo,'DejaVu Sans Mono',consolas,'Courier New',monospace\"><span style=\"color: #7fbfbf; text-decoration-color: #7fbfbf\">[09/04/24 11:44:04] </span><span style=\"color: #000080; text-decoration-color: #000080\">INFO    </span> Pipeline execution completed successfully.                               <a href=\"file:///Users/vyronaskatsos/micromamba/envs/spaceflights310/lib/python3.10/site-packages/kedro/runner/runner.py\" target=\"_blank\"><span style=\"color: #7f7f7f; text-decoration-color: #7f7f7f\">runner.py</span></a><span style=\"color: #7f7f7f; text-decoration-color: #7f7f7f\">:</span><a href=\"file:///Users/vyronaskatsos/micromamba/envs/spaceflights310/lib/python3.10/site-packages/kedro/runner/runner.py#123\" target=\"_blank\"><span style=\"color: #7f7f7f; text-decoration-color: #7f7f7f\">123</span></a>\n",
       "</pre>\n"
      ],
      "text/plain": [
       "\u001b[2;36m[09/04/24 11:44:04]\u001b[0m\u001b[2;36m \u001b[0m\u001b[34mINFO    \u001b[0m Pipeline execution completed successfully.                               \u001b]8;id=248854;file:///Users/vyronaskatsos/micromamba/envs/spaceflights310/lib/python3.10/site-packages/kedro/runner/runner.py\u001b\\\u001b[2mrunner.py\u001b[0m\u001b]8;;\u001b\\\u001b[2m:\u001b[0m\u001b]8;id=316248;file:///Users/vyronaskatsos/micromamba/envs/spaceflights310/lib/python3.10/site-packages/kedro/runner/runner.py#123\u001b\\\u001b[2m123\u001b[0m\u001b]8;;\u001b\\\n"
      ]
     },
     "metadata": {},
     "output_type": "display_data"
    },
    {
     "data": {
      "text/html": [
       "<pre style=\"white-space:pre;overflow-x:auto;line-height:normal;font-family:Menlo,'DejaVu Sans Mono',consolas,'Courier New',monospace\"></pre>\n"
      ],
      "text/plain": []
     },
     "metadata": {},
     "output_type": "display_data"
    },
    {
     "data": {
      "text/plain": [
       "\u001b[1m{\u001b[0m\u001b[1m}\u001b[0m"
      ]
     },
     "execution_count": 12,
     "metadata": {},
     "output_type": "execute_result"
    }
   ],
   "source": [
    "from kedro.runner import SequentialRunner, ParallelRunner\n",
    "ParallelRunner().run(pipeline = pipelines[\"__default__\"],catalog=catalog)"
   ]
  },
  {
   "cell_type": "code",
   "execution_count": null,
   "id": "bcf0843a-bd7f-4687-a20f-566d72142a6c",
   "metadata": {},
   "outputs": [],
   "source": []
  }
 ],
 "metadata": {
  "kernelspec": {
   "display_name": "Python 3 (ipykernel)",
   "language": "python",
   "name": "python3"
  },
  "language_info": {
   "codemirror_mode": {
    "name": "ipython",
    "version": 3
   },
   "file_extension": ".py",
   "mimetype": "text/x-python",
   "name": "python",
   "nbconvert_exporter": "python",
   "pygments_lexer": "ipython3",
   "version": "3.10.14"
  }
 },
 "nbformat": 4,
 "nbformat_minor": 5
}
